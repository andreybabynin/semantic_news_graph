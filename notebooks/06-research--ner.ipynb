{
 "cells": [
  {
   "cell_type": "code",
   "execution_count": 1,
   "id": "b99f4226",
   "metadata": {
    "_cell_guid": "b1076dfc-b9ad-4769-8c92-a6c4dae69d19",
    "_uuid": "8f2839f25d086af736a60e9eeb907d3b93b6e0e5",
    "execution": {
     "iopub.execute_input": "2022-11-02T11:12:09.637180Z",
     "iopub.status.busy": "2022-11-02T11:12:09.636718Z",
     "iopub.status.idle": "2022-11-02T11:12:09.711009Z",
     "shell.execute_reply": "2022-11-02T11:12:09.709699Z"
    },
    "papermill": {
     "duration": 0.088186,
     "end_time": "2022-11-02T11:12:09.714587",
     "exception": false,
     "start_time": "2022-11-02T11:12:09.626401",
     "status": "completed"
    },
    "tags": []
   },
   "outputs": [
    {
     "name": "stdout",
     "output_type": "stream",
     "text": [
      "/kaggle/input/my-private-datasets/quotes_rus/quotes_pattern01.txt\n",
      "/kaggle/input/my-private-datasets/quotes_rus/quotes_pattern04.txt\n",
      "/kaggle/input/my-private-datasets/quotes_rus/quotes_pattern03.txt\n",
      "/kaggle/input/my-private-datasets/quotes_rus/quotes_pattern06.txt\n",
      "/kaggle/input/my-private-datasets/quotes_rus/quotes_pattern05.txt\n",
      "/kaggle/input/my-private-datasets/quotes_rus/quotes_pattern07.txt\n",
      "/kaggle/input/my-private-datasets/quotes_rus/quotes_pattern02.txt\n",
      "/kaggle/input/my-private-datasets/CVBooks/SoT_CV-Jr_2018_rus.txt\n",
      "/kaggle/input/my-private-datasets/CVBooks/ollection_of_quotes_2015_rus.txt\n",
      "/kaggle/input/my-private-datasets/CVBooks/rus/3rdAlt_2017.txt\n",
      "/kaggle/input/my-private-datasets/CVBooks/rus/7h_1998.txt\n",
      "/kaggle/input/my-private-datasets/CVBooks/rus/LonP_2008.txt\n",
      "/kaggle/input/my-private-datasets/CVBooks/rus/7h_fam_2007.txt\n",
      "/kaggle/input/my-private-datasets/CVBooks/rus/PredRes_2010.txt\n",
      "/kaggle/input/my-private-datasets/CVBooks/rus/8h_2017.txt\n",
      "/kaggle/input/my-private-datasets/CVBooks/rus/EiW_2014.txt\n",
      "/kaggle/input/my-private-datasets/CVBooks/rus/ST_2013.txt\n",
      "/kaggle/input/my-private-datasets/CVBooks/rus/PG_2016.txt\n",
      "/kaggle/input/my-private-datasets/CVBooks/rus/7h_2006.txt\n",
      "/kaggle/input/my-private-datasets/CVBooks/rus/LiM_2012.txt\n",
      "/kaggle/input/my-private-datasets/CVBooks/rus/Foc_2011.txt\n",
      "/kaggle/input/my-private-datasets/CVBooks/rus/FTF_2011.txt\n",
      "/kaggle/input/my-private-datasets/CVBooks/rus/PY_2014.txt\n",
      "/kaggle/input/my-private-datasets/CVBooks/en/7h_en.txt\n",
      "/kaggle/input/my-private-datasets/nlp_huawei_toxic/submission.csv\n",
      "/kaggle/input/my-private-datasets/nlp_huawei_toxic/train.csv\n",
      "/kaggle/input/my-private-datasets/nlp_huawei_toxic/test.csv\n",
      "/kaggle/input/my-private-datasets/graph_news/tg_chatexport__rian_ru__20201019-20221019.json\n",
      "/kaggle/input/my-private-datasets/graph_news/tg_chatexport__rian_ru__20220601-20221009.json\n",
      "/kaggle/input/my-private-datasets/graph_news/news_with_summarization.csv\n",
      "/kaggle/input/my-private-datasets/graph_news/tg_chatexport__rian_ru__20181018-20201018.json\n"
     ]
    }
   ],
   "source": [
    "# This Python 3 environment comes with many helpful analytics libraries installed\n",
    "# It is defined by the kaggle/python Docker image: https://github.com/kaggle/docker-python\n",
    "# For example, here's several helpful packages to load\n",
    "\n",
    "import numpy as np # linear algebra\n",
    "import pandas as pd # data processing, CSV file I/O (e.g. pd.read_csv)\n",
    "\n",
    "# Input data files are available in the read-only \"../input/\" directory\n",
    "# For example, running this (by clicking run or pressing Shift+Enter) will list all files under the input directory\n",
    "\n",
    "import os\n",
    "for dirname, _, filenames in os.walk('/kaggle/input'):\n",
    "    for filename in filenames:\n",
    "        print(os.path.join(dirname, filename))\n",
    "\n",
    "# You can write up to 20GB to the current directory (/kaggle/working/) that gets preserved as output when you create a version using \"Save & Run All\" \n",
    "# You can also write temporary files to /kaggle/temp/, but they won't be saved outside of the current session"
   ]
  },
  {
   "cell_type": "markdown",
   "id": "83225440",
   "metadata": {
    "papermill": {
     "duration": 0.006852,
     "end_time": "2022-11-02T11:12:09.732514",
     "exception": false,
     "start_time": "2022-11-02T11:12:09.725662",
     "status": "completed"
    },
    "tags": []
   },
   "source": [
    "- сравнить NER\n",
    "- опробовать разные варианты dependencies\n",
    "- можно делать это на саммаризованых текстах"
   ]
  },
  {
   "cell_type": "code",
   "execution_count": 2,
   "id": "767dc54c",
   "metadata": {
    "execution": {
     "iopub.execute_input": "2022-11-02T11:12:09.751891Z",
     "iopub.status.busy": "2022-11-02T11:12:09.751092Z",
     "iopub.status.idle": "2022-11-02T11:12:10.816275Z",
     "shell.execute_reply": "2022-11-02T11:12:10.815064Z"
    },
    "papermill": {
     "duration": 1.078831,
     "end_time": "2022-11-02T11:12:10.819548",
     "exception": false,
     "start_time": "2022-11-02T11:12:09.740717",
     "status": "completed"
    },
    "tags": []
   },
   "outputs": [
    {
     "name": "stderr",
     "output_type": "stream",
     "text": [
      "/opt/conda/lib/python3.7/site-packages/ipykernel_launcher.py:2: FutureWarning: Passing a negative integer is deprecated in version 1.0 and will not be supported in future version. Instead, use None to not limit the column width.\n",
      "  \n"
     ]
    },
    {
     "data": {
      "text/html": [
       "<div>\n",
       "<style scoped>\n",
       "    .dataframe tbody tr th:only-of-type {\n",
       "        vertical-align: middle;\n",
       "    }\n",
       "\n",
       "    .dataframe tbody tr th {\n",
       "        vertical-align: top;\n",
       "    }\n",
       "\n",
       "    .dataframe thead th {\n",
       "        text-align: right;\n",
       "    }\n",
       "</style>\n",
       "<table border=\"1\" class=\"dataframe\">\n",
       "  <thead>\n",
       "    <tr style=\"text-align: right;\">\n",
       "      <th></th>\n",
       "      <th>date</th>\n",
       "      <th>text</th>\n",
       "      <th>summary</th>\n",
       "    </tr>\n",
       "  </thead>\n",
       "  <tbody>\n",
       "    <tr>\n",
       "      <th>153071</th>\n",
       "      <td>2022-05-21T15:21:27</td>\n",
       "      <td>Вице-спикер Госдумы Чернышов предложил рассмотреть возможность введения дополнительного выходного за работу в условиях стресса.\\n\\nПрофсоюзы предложение поддержать готовы, но считают его реализуемость маловероятной, заявил РИА Новости глава ФНПР Шмаков.</td>\n",
       "      <td>В Госдуме предложили ввести дополнительный выходной за работу в условиях стресса</td>\n",
       "    </tr>\n",
       "    <tr>\n",
       "      <th>80701</th>\n",
       "      <td>2021-04-14T13:02:42</td>\n",
       "      <td>Польская католическая церковь считает, что верующим можно прививаться AstraZeneca и Johnson &amp; Johnson только при отсутствии альтернативы, поскольку их производство нарушает моральные принципы</td>\n",
       "      <td>Польская католическая церковь считает, что верующим можно прививаться AstraZeneca и Johnson &amp; Johnson только при отсутствии альтернативы</td>\n",
       "    </tr>\n",
       "    <tr>\n",
       "      <th>129459</th>\n",
       "      <td>2022-01-19T03:30:50</td>\n",
       "      <td>Реклама в российском сегменте Google содержит тысячи вредоносных ссылок, часть из них ведет на поддельные сайты банков и их личные кабинеты, рассказали РИА Новости эксперты ОНФ</td>\n",
       "      <td>ОНФ: реклама в российском сегменте Google содержит тысячи вредоносных ссылок</td>\n",
       "    </tr>\n",
       "    <tr>\n",
       "      <th>75290</th>\n",
       "      <td>2021-03-17T12:21:24</td>\n",
       "      <td>Тиньков дал совет, как вести хороший бизнес в России: \"бизнес всегда хороший, когда люди работают по 16 часов\"</td>\n",
       "      <td>Тиньков: \"Бизнес всегда хороший, когда люди работают по 16 часов\"</td>\n",
       "    </tr>\n",
       "    <tr>\n",
       "      <th>48368</th>\n",
       "      <td>2020-10-12T18:08:42</td>\n",
       "      <td>По уточненным данным, в стрельбе на остановке в Нижегородской области 3 погибли и 3 ранены, заявили РИА Новости в экстренных службах</td>\n",
       "      <td>В стрельбе на остановке в Нижегородской области погибли 3 человека</td>\n",
       "    </tr>\n",
       "    <tr>\n",
       "      <th>...</th>\n",
       "      <td>...</td>\n",
       "      <td>...</td>\n",
       "      <td>...</td>\n",
       "    </tr>\n",
       "    <tr>\n",
       "      <th>71914</th>\n",
       "      <td>2021-02-26T12:20:28</td>\n",
       "      <td>Додон заявил, что советники президента Санду давят на правительственные органы, чтобы не допустить регистрации в Молдавии \"Спутник V\"</td>\n",
       "      <td>Додон: Советники президента Молдавии давят на правительственные органы, чтобы не допустить регистрации \"Спутника V\"</td>\n",
       "    </tr>\n",
       "    <tr>\n",
       "      <th>141231</th>\n",
       "      <td>2022-03-09T16:14:57</td>\n",
       "      <td>Victoria's Secret останавливает работу магазинов и онлайн-продажи в России</td>\n",
       "      <td>Victoria's Secret останавливает работу магазинов и онлайн-продажи в России</td>\n",
       "    </tr>\n",
       "    <tr>\n",
       "      <th>533</th>\n",
       "      <td>2019-07-31T13:35:34</td>\n",
       "      <td>❗️Twitter заблокировал аккаунт российского посольства в Сирии из-за критики \"Белых касок\".</td>\n",
       "      <td>Twitter заблокировал аккаунт посольства России в Сирии из-за критики \"Белых касок\"</td>\n",
       "    </tr>\n",
       "    <tr>\n",
       "      <th>136359</th>\n",
       "      <td>2022-02-22T19:29:28</td>\n",
       "      <td>Путин: Европа не смогла заставить Киев выполнить минские договоренности, поэтому Россия была вынуждена принять решение о признании ДНР и ЛНР</td>\n",
       "      <td>Путин: Европа не смогла заставить Киев выполнить минские договоренности, поэтому Россия была вынуждена принять решение о признании ДНР и ЛНР</td>\n",
       "    </tr>\n",
       "    <tr>\n",
       "      <th>140678</th>\n",
       "      <td>2022-03-07T10:40:12</td>\n",
       "      <td>Крупный ритейлер косметики Sephora сообщил о закрытии магазинов и прекращении онлайн-продаж в России</td>\n",
       "      <td>Крупный ритейлер косметики Sephora объявил о закрытии магазинов и прекращении онлайн-продаж</td>\n",
       "    </tr>\n",
       "  </tbody>\n",
       "</table>\n",
       "<p>10000 rows × 3 columns</p>\n",
       "</div>"
      ],
      "text/plain": [
       "                       date  \\\n",
       "153071  2022-05-21T15:21:27   \n",
       "80701   2021-04-14T13:02:42   \n",
       "129459  2022-01-19T03:30:50   \n",
       "75290   2021-03-17T12:21:24   \n",
       "48368   2020-10-12T18:08:42   \n",
       "...                     ...   \n",
       "71914   2021-02-26T12:20:28   \n",
       "141231  2022-03-09T16:14:57   \n",
       "533     2019-07-31T13:35:34   \n",
       "136359  2022-02-22T19:29:28   \n",
       "140678  2022-03-07T10:40:12   \n",
       "\n",
       "                                                                                                                                                                                                                                                                 text  \\\n",
       "153071  Вице-спикер Госдумы Чернышов предложил рассмотреть возможность введения дополнительного выходного за работу в условиях стресса.\\n\\nПрофсоюзы предложение поддержать готовы, но считают его реализуемость маловероятной, заявил РИА Новости глава ФНПР Шмаков.   \n",
       "80701   Польская католическая церковь считает, что верующим можно прививаться AstraZeneca и Johnson & Johnson только при отсутствии альтернативы, поскольку их производство нарушает моральные принципы                                                                 \n",
       "129459  Реклама в российском сегменте Google содержит тысячи вредоносных ссылок, часть из них ведет на поддельные сайты банков и их личные кабинеты, рассказали РИА Новости эксперты ОНФ                                                                                \n",
       "75290   Тиньков дал совет, как вести хороший бизнес в России: \"бизнес всегда хороший, когда люди работают по 16 часов\"                                                                                                                                                  \n",
       "48368   По уточненным данным, в стрельбе на остановке в Нижегородской области 3 погибли и 3 ранены, заявили РИА Новости в экстренных службах                                                                                                                            \n",
       "...                                                                                                                                      ...                                                                                                                            \n",
       "71914   Додон заявил, что советники президента Санду давят на правительственные органы, чтобы не допустить регистрации в Молдавии \"Спутник V\"                                                                                                                           \n",
       "141231  Victoria's Secret останавливает работу магазинов и онлайн-продажи в России                                                                                                                                                                                      \n",
       "533     ❗️Twitter заблокировал аккаунт российского посольства в Сирии из-за критики \"Белых касок\".                                                                                                                                                                      \n",
       "136359  Путин: Европа не смогла заставить Киев выполнить минские договоренности, поэтому Россия была вынуждена принять решение о признании ДНР и ЛНР                                                                                                                    \n",
       "140678  Крупный ритейлер косметики Sephora сообщил о закрытии магазинов и прекращении онлайн-продаж в России                                                                                                                                                            \n",
       "\n",
       "                                                                                                                                             summary  \n",
       "153071  В Госдуме предложили ввести дополнительный выходной за работу в условиях стресса                                                              \n",
       "80701   Польская католическая церковь считает, что верующим можно прививаться AstraZeneca и Johnson & Johnson только при отсутствии альтернативы      \n",
       "129459  ОНФ: реклама в российском сегменте Google содержит тысячи вредоносных ссылок                                                                  \n",
       "75290   Тиньков: \"Бизнес всегда хороший, когда люди работают по 16 часов\"                                                                             \n",
       "48368   В стрельбе на остановке в Нижегородской области погибли 3 человека                                                                            \n",
       "...                                                                    ...                                                                            \n",
       "71914   Додон: Советники президента Молдавии давят на правительственные органы, чтобы не допустить регистрации \"Спутника V\"                           \n",
       "141231  Victoria's Secret останавливает работу магазинов и онлайн-продажи в России                                                                    \n",
       "533     Twitter заблокировал аккаунт посольства России в Сирии из-за критики \"Белых касок\"                                                            \n",
       "136359  Путин: Европа не смогла заставить Киев выполнить минские договоренности, поэтому Россия была вынуждена принять решение о признании ДНР и ЛНР  \n",
       "140678  Крупный ритейлер косметики Sephora объявил о закрытии магазинов и прекращении онлайн-продаж                                                   \n",
       "\n",
       "[10000 rows x 3 columns]"
      ]
     },
     "execution_count": 2,
     "metadata": {},
     "output_type": "execute_result"
    }
   ],
   "source": [
    "SAMPLE_SIZE = 10000\n",
    "pd.set_option('display.max_colwidth', -1)\n",
    "\n",
    "df_sample = pd.read_csv(\"/kaggle/input/my-private-datasets/graph_news/news_with_summarization.csv\", index_col=0).sample(SAMPLE_SIZE)\n",
    "df_sample.rename(columns={\"IlyaGusev__rut5_base_headline_gen_telegram\": \"summary\"}, inplace=True)\n",
    "df_sample"
   ]
  },
  {
   "cell_type": "code",
   "execution_count": 3,
   "id": "12d7bad1",
   "metadata": {
    "execution": {
     "iopub.execute_input": "2022-11-02T11:12:10.837041Z",
     "iopub.status.busy": "2022-11-02T11:12:10.836597Z",
     "iopub.status.idle": "2022-11-02T11:12:10.877246Z",
     "shell.execute_reply": "2022-11-02T11:12:10.875677Z"
    },
    "papermill": {
     "duration": 0.052229,
     "end_time": "2022-11-02T11:12:10.879771",
     "exception": false,
     "start_time": "2022-11-02T11:12:10.827542",
     "status": "completed"
    },
    "tags": []
   },
   "outputs": [],
   "source": [
    "# Clean ⚡️🎾❗️...\n",
    "df_sample[\"text\"] = df_sample.text.str.replace(\"[⚡️🎾❗️🌏]\", \"\", regex=True)"
   ]
  },
  {
   "cell_type": "markdown",
   "id": "8f00b6e3",
   "metadata": {
    "papermill": {
     "duration": 0.007203,
     "end_time": "2022-11-02T11:12:10.894968",
     "exception": false,
     "start_time": "2022-11-02T11:12:10.887765",
     "status": "completed"
    },
    "tags": []
   },
   "source": [
    "## NER (compare spacy/stanza) ##"
   ]
  },
  {
   "cell_type": "markdown",
   "id": "7eb3dfa0",
   "metadata": {
    "papermill": {
     "duration": 0.007044,
     "end_time": "2022-11-02T11:12:10.909423",
     "exception": false,
     "start_time": "2022-11-02T11:12:10.902379",
     "status": "completed"
    },
    "tags": []
   },
   "source": [
    "### Spacy ###"
   ]
  },
  {
   "cell_type": "code",
   "execution_count": 4,
   "id": "569aa9ca",
   "metadata": {
    "execution": {
     "iopub.execute_input": "2022-11-02T11:12:10.926190Z",
     "iopub.status.busy": "2022-11-02T11:12:10.925718Z",
     "iopub.status.idle": "2022-11-02T11:13:34.134323Z",
     "shell.execute_reply": "2022-11-02T11:13:34.132501Z"
    },
    "papermill": {
     "duration": 83.22041,
     "end_time": "2022-11-02T11:13:34.137284",
     "exception": false,
     "start_time": "2022-11-02T11:12:10.916874",
     "status": "completed"
    },
    "tags": []
   },
   "outputs": [
    {
     "name": "stdout",
     "output_type": "stream",
     "text": [
      "Collecting ru-core-news-lg==3.3.0\r\n",
      "  Downloading https://github.com/explosion/spacy-models/releases/download/ru_core_news_lg-3.3.0/ru_core_news_lg-3.3.0-py3-none-any.whl (513.4 MB)\r\n",
      "\u001b[2K     \u001b[90m━━━━━━━━━━━━━━━━━━━━━━━━━━━━━━━━━━━━━━━\u001b[0m \u001b[32m513.4/513.4 MB\u001b[0m \u001b[31m2.0 MB/s\u001b[0m eta \u001b[36m0:00:00\u001b[0m\r\n",
      "\u001b[?25hRequirement already satisfied: spacy<3.4.0,>=3.3.0.dev0 in /opt/conda/lib/python3.7/site-packages (from ru-core-news-lg==3.3.0) (3.3.1)\r\n",
      "Collecting pymorphy2>=0.9\r\n",
      "  Downloading pymorphy2-0.9.1-py3-none-any.whl (55 kB)\r\n",
      "\u001b[2K     \u001b[90m━━━━━━━━━━━━━━━━━━━━━━━━━━━━━━━━━━━━━━━\u001b[0m \u001b[32m55.5/55.5 kB\u001b[0m \u001b[31m667.3 kB/s\u001b[0m eta \u001b[36m0:00:00\u001b[0m\r\n",
      "\u001b[?25hCollecting dawg-python>=0.7.1\r\n",
      "  Downloading DAWG_Python-0.7.2-py2.py3-none-any.whl (11 kB)\r\n",
      "Requirement already satisfied: docopt>=0.6 in /opt/conda/lib/python3.7/site-packages (from pymorphy2>=0.9->ru-core-news-lg==3.3.0) (0.6.2)\r\n",
      "Collecting pymorphy2-dicts-ru<3.0,>=2.4\r\n",
      "  Downloading pymorphy2_dicts_ru-2.4.417127.4579844-py2.py3-none-any.whl (8.2 MB)\r\n",
      "\u001b[2K     \u001b[90m━━━━━━━━━━━━━━━━━━━━━━━━━━━━━━━━━━━━━━━━\u001b[0m \u001b[32m8.2/8.2 MB\u001b[0m \u001b[31m8.5 MB/s\u001b[0m eta \u001b[36m0:00:00\u001b[0m\r\n",
      "\u001b[?25hRequirement already satisfied: wasabi<1.1.0,>=0.9.1 in /opt/conda/lib/python3.7/site-packages (from spacy<3.4.0,>=3.3.0.dev0->ru-core-news-lg==3.3.0) (0.10.1)\r\n",
      "Requirement already satisfied: typer<0.5.0,>=0.3.0 in /opt/conda/lib/python3.7/site-packages (from spacy<3.4.0,>=3.3.0.dev0->ru-core-news-lg==3.3.0) (0.4.2)\r\n",
      "Requirement already satisfied: numpy>=1.15.0 in /opt/conda/lib/python3.7/site-packages (from spacy<3.4.0,>=3.3.0.dev0->ru-core-news-lg==3.3.0) (1.21.6)\r\n",
      "Requirement already satisfied: packaging>=20.0 in /opt/conda/lib/python3.7/site-packages (from spacy<3.4.0,>=3.3.0.dev0->ru-core-news-lg==3.3.0) (21.3)\r\n",
      "Requirement already satisfied: langcodes<4.0.0,>=3.2.0 in /opt/conda/lib/python3.7/site-packages (from spacy<3.4.0,>=3.3.0.dev0->ru-core-news-lg==3.3.0) (3.3.0)\r\n",
      "Requirement already satisfied: setuptools in /opt/conda/lib/python3.7/site-packages (from spacy<3.4.0,>=3.3.0.dev0->ru-core-news-lg==3.3.0) (59.8.0)\r\n",
      "Requirement already satisfied: catalogue<2.1.0,>=2.0.6 in /opt/conda/lib/python3.7/site-packages (from spacy<3.4.0,>=3.3.0.dev0->ru-core-news-lg==3.3.0) (2.0.8)\r\n",
      "Requirement already satisfied: jinja2 in /opt/conda/lib/python3.7/site-packages (from spacy<3.4.0,>=3.3.0.dev0->ru-core-news-lg==3.3.0) (3.1.2)\r\n",
      "Requirement already satisfied: requests<3.0.0,>=2.13.0 in /opt/conda/lib/python3.7/site-packages (from spacy<3.4.0,>=3.3.0.dev0->ru-core-news-lg==3.3.0) (2.28.1)\r\n",
      "Requirement already satisfied: blis<0.8.0,>=0.4.0 in /opt/conda/lib/python3.7/site-packages (from spacy<3.4.0,>=3.3.0.dev0->ru-core-news-lg==3.3.0) (0.7.9)\r\n",
      "Requirement already satisfied: spacy-legacy<3.1.0,>=3.0.9 in /opt/conda/lib/python3.7/site-packages (from spacy<3.4.0,>=3.3.0.dev0->ru-core-news-lg==3.3.0) (3.0.10)\r\n",
      "Requirement already satisfied: preshed<3.1.0,>=3.0.2 in /opt/conda/lib/python3.7/site-packages (from spacy<3.4.0,>=3.3.0.dev0->ru-core-news-lg==3.3.0) (3.0.8)\r\n",
      "Requirement already satisfied: spacy-loggers<2.0.0,>=1.0.0 in /opt/conda/lib/python3.7/site-packages (from spacy<3.4.0,>=3.3.0.dev0->ru-core-news-lg==3.3.0) (1.0.3)\r\n",
      "Requirement already satisfied: cymem<2.1.0,>=2.0.2 in /opt/conda/lib/python3.7/site-packages (from spacy<3.4.0,>=3.3.0.dev0->ru-core-news-lg==3.3.0) (2.0.7)\r\n",
      "Requirement already satisfied: pydantic!=1.8,!=1.8.1,<1.9.0,>=1.7.4 in /opt/conda/lib/python3.7/site-packages (from spacy<3.4.0,>=3.3.0.dev0->ru-core-news-lg==3.3.0) (1.8.2)\r\n",
      "Requirement already satisfied: thinc<8.1.0,>=8.0.14 in /opt/conda/lib/python3.7/site-packages (from spacy<3.4.0,>=3.3.0.dev0->ru-core-news-lg==3.3.0) (8.0.17)\r\n",
      "Requirement already satisfied: pathy>=0.3.5 in /opt/conda/lib/python3.7/site-packages (from spacy<3.4.0,>=3.3.0.dev0->ru-core-news-lg==3.3.0) (0.6.2)\r\n",
      "Requirement already satisfied: murmurhash<1.1.0,>=0.28.0 in /opt/conda/lib/python3.7/site-packages (from spacy<3.4.0,>=3.3.0.dev0->ru-core-news-lg==3.3.0) (1.0.9)\r\n",
      "Collecting typing-extensions<4.2.0,>=3.7.4\r\n",
      "  Downloading typing_extensions-4.1.1-py3-none-any.whl (26 kB)\r\n",
      "Requirement already satisfied: tqdm<5.0.0,>=4.38.0 in /opt/conda/lib/python3.7/site-packages (from spacy<3.4.0,>=3.3.0.dev0->ru-core-news-lg==3.3.0) (4.64.0)\r\n",
      "Requirement already satisfied: srsly<3.0.0,>=2.4.3 in /opt/conda/lib/python3.7/site-packages (from spacy<3.4.0,>=3.3.0.dev0->ru-core-news-lg==3.3.0) (2.4.5)\r\n",
      "Requirement already satisfied: zipp>=0.5 in /opt/conda/lib/python3.7/site-packages (from catalogue<2.1.0,>=2.0.6->spacy<3.4.0,>=3.3.0.dev0->ru-core-news-lg==3.3.0) (3.8.0)\r\n",
      "Requirement already satisfied: pyparsing!=3.0.5,>=2.0.2 in /opt/conda/lib/python3.7/site-packages (from packaging>=20.0->spacy<3.4.0,>=3.3.0.dev0->ru-core-news-lg==3.3.0) (3.0.9)\r\n",
      "Requirement already satisfied: smart-open<6.0.0,>=5.2.1 in /opt/conda/lib/python3.7/site-packages (from pathy>=0.3.5->spacy<3.4.0,>=3.3.0.dev0->ru-core-news-lg==3.3.0) (5.2.1)\r\n",
      "Requirement already satisfied: urllib3<1.27,>=1.21.1 in /opt/conda/lib/python3.7/site-packages (from requests<3.0.0,>=2.13.0->spacy<3.4.0,>=3.3.0.dev0->ru-core-news-lg==3.3.0) (1.26.12)\r\n",
      "Requirement already satisfied: certifi>=2017.4.17 in /opt/conda/lib/python3.7/site-packages (from requests<3.0.0,>=2.13.0->spacy<3.4.0,>=3.3.0.dev0->ru-core-news-lg==3.3.0) (2022.9.24)\r\n",
      "Requirement already satisfied: idna<4,>=2.5 in /opt/conda/lib/python3.7/site-packages (from requests<3.0.0,>=2.13.0->spacy<3.4.0,>=3.3.0.dev0->ru-core-news-lg==3.3.0) (3.3)\r\n",
      "Requirement already satisfied: charset-normalizer<3,>=2 in /opt/conda/lib/python3.7/site-packages (from requests<3.0.0,>=2.13.0->spacy<3.4.0,>=3.3.0.dev0->ru-core-news-lg==3.3.0) (2.1.0)\r\n",
      "Requirement already satisfied: click<9.0.0,>=7.1.1 in /opt/conda/lib/python3.7/site-packages (from typer<0.5.0,>=0.3.0->spacy<3.4.0,>=3.3.0.dev0->ru-core-news-lg==3.3.0) (8.0.4)\r\n",
      "Requirement already satisfied: MarkupSafe>=2.0 in /opt/conda/lib/python3.7/site-packages (from jinja2->spacy<3.4.0,>=3.3.0.dev0->ru-core-news-lg==3.3.0) (2.1.1)\r\n",
      "Requirement already satisfied: importlib-metadata in /opt/conda/lib/python3.7/site-packages (from click<9.0.0,>=7.1.1->typer<0.5.0,>=0.3.0->spacy<3.4.0,>=3.3.0.dev0->ru-core-news-lg==3.3.0) (4.13.0)\r\n",
      "Installing collected packages: pymorphy2-dicts-ru, dawg-python, typing-extensions, pymorphy2, ru-core-news-lg\r\n",
      "  Attempting uninstall: typing-extensions\r\n",
      "    Found existing installation: typing_extensions 4.4.0\r\n",
      "    Uninstalling typing_extensions-4.4.0:\r\n",
      "      Successfully uninstalled typing_extensions-4.4.0\r\n",
      "\u001b[31mERROR: pip's dependency resolver does not currently take into account all the packages that are installed. This behaviour is the source of the following dependency conflicts.\r\n",
      "tensorflow-io 0.21.0 requires tensorflow-io-gcs-filesystem==0.21.0, which is not installed.\r\n",
      "tensorflow 2.6.4 requires h5py~=3.1.0, but you have h5py 3.7.0 which is incompatible.\r\n",
      "tensorflow 2.6.4 requires numpy~=1.19.2, but you have numpy 1.21.6 which is incompatible.\r\n",
      "tensorflow 2.6.4 requires tensorboard<2.7,>=2.6.0, but you have tensorboard 2.10.1 which is incompatible.\r\n",
      "tensorflow 2.6.4 requires typing-extensions<3.11,>=3.7, but you have typing-extensions 4.1.1 which is incompatible.\r\n",
      "tensorflow-transform 1.9.0 requires pyarrow<6,>=1, but you have pyarrow 8.0.0 which is incompatible.\r\n",
      "tensorflow-transform 1.9.0 requires tensorflow!=2.0.*,!=2.1.*,!=2.2.*,!=2.3.*,!=2.4.*,!=2.5.*,!=2.6.*,!=2.7.*,!=2.8.*,<2.10,>=1.15.5, but you have tensorflow 2.6.4 which is incompatible.\r\n",
      "tensorflow-serving-api 2.9.0 requires tensorflow<3,>=2.9.0, but you have tensorflow 2.6.4 which is incompatible.\r\n",
      "pandas-profiling 3.1.0 requires markupsafe~=2.0.1, but you have markupsafe 2.1.1 which is incompatible.\r\n",
      "flake8 4.0.1 requires importlib-metadata<4.3; python_version < \"3.8\", but you have importlib-metadata 4.13.0 which is incompatible.\r\n",
      "apache-beam 2.40.0 requires dill<0.3.2,>=0.3.1.1, but you have dill 0.3.5.1 which is incompatible.\r\n",
      "apache-beam 2.40.0 requires pyarrow<8.0.0,>=0.15.1, but you have pyarrow 8.0.0 which is incompatible.\r\n",
      "allennlp 2.10.0 requires protobuf==3.20.0, but you have protobuf 3.19.4 which is incompatible.\r\n",
      "aiobotocore 2.4.0 requires botocore<1.27.60,>=1.27.59, but you have botocore 1.27.93 which is incompatible.\u001b[0m\u001b[31m\r\n",
      "\u001b[0mSuccessfully installed dawg-python-0.7.2 pymorphy2-0.9.1 pymorphy2-dicts-ru-2.4.417127.4579844 ru-core-news-lg-3.3.0 typing-extensions-4.1.1\r\n",
      "\u001b[33mWARNING: Running pip as the 'root' user can result in broken permissions and conflicting behaviour with the system package manager. It is recommended to use a virtual environment instead: https://pip.pypa.io/warnings/venv\u001b[0m\u001b[33m\r\n",
      "\u001b[0m\u001b[38;5;2m✔ Download and installation successful\u001b[0m\r\n",
      "You can now load the package via spacy.load('ru_core_news_lg')\r\n"
     ]
    }
   ],
   "source": [
    "!python -m spacy download ru_core_news_lg"
   ]
  },
  {
   "cell_type": "code",
   "execution_count": 5,
   "id": "af7e8fc6",
   "metadata": {
    "execution": {
     "iopub.execute_input": "2022-11-02T11:13:34.242973Z",
     "iopub.status.busy": "2022-11-02T11:13:34.242528Z",
     "iopub.status.idle": "2022-11-02T11:13:42.443391Z",
     "shell.execute_reply": "2022-11-02T11:13:42.442095Z"
    },
    "papermill": {
     "duration": 8.258705,
     "end_time": "2022-11-02T11:13:42.446414",
     "exception": false,
     "start_time": "2022-11-02T11:13:34.187709",
     "status": "completed"
    },
    "tags": []
   },
   "outputs": [],
   "source": [
    "import spacy\n",
    "nlp_spacy = spacy.load(\"ru_core_news_lg\")"
   ]
  },
  {
   "cell_type": "code",
   "execution_count": 6,
   "id": "6afd5996",
   "metadata": {
    "execution": {
     "iopub.execute_input": "2022-11-02T11:13:42.553148Z",
     "iopub.status.busy": "2022-11-02T11:13:42.552722Z",
     "iopub.status.idle": "2022-11-02T11:13:42.557843Z",
     "shell.execute_reply": "2022-11-02T11:13:42.556705Z"
    },
    "papermill": {
     "duration": 0.06203,
     "end_time": "2022-11-02T11:13:42.559913",
     "exception": false,
     "start_time": "2022-11-02T11:13:42.497883",
     "status": "completed"
    },
    "tags": []
   },
   "outputs": [],
   "source": [
    "timeit_sample = \"Пересадки на наземном общественном транспорте в Москве станут бесплатными в течение 90 минут с начала поездки, объявил Собянин.До сих пор пересадка была бесплатной только между отдельными ветками метро (для сравнения, в некоторых городах мира за пересадку внутри метро надо платить) и между метро и поездами МЦК и МЦД.\""
   ]
  },
  {
   "cell_type": "code",
   "execution_count": 7,
   "id": "be28982c",
   "metadata": {
    "execution": {
     "iopub.execute_input": "2022-11-02T11:13:42.663011Z",
     "iopub.status.busy": "2022-11-02T11:13:42.662208Z",
     "iopub.status.idle": "2022-11-02T11:13:45.450643Z",
     "shell.execute_reply": "2022-11-02T11:13:45.447809Z"
    },
    "papermill": {
     "duration": 2.843738,
     "end_time": "2022-11-02T11:13:45.454427",
     "exception": false,
     "start_time": "2022-11-02T11:13:42.610689",
     "status": "completed"
    },
    "tags": []
   },
   "outputs": [
    {
     "name": "stdout",
     "output_type": "stream",
     "text": [
      "34.1 ms ± 1.96 ms per loop (mean ± std. dev. of 7 runs, 10 loops each)\n"
     ]
    }
   ],
   "source": [
    "%%timeit \n",
    "nlp_spacy(timeit_sample).ents"
   ]
  },
  {
   "cell_type": "code",
   "execution_count": 8,
   "id": "2b7f3545",
   "metadata": {
    "execution": {
     "iopub.execute_input": "2022-11-02T11:13:45.588722Z",
     "iopub.status.busy": "2022-11-02T11:13:45.587704Z",
     "iopub.status.idle": "2022-11-02T11:18:45.815218Z",
     "shell.execute_reply": "2022-11-02T11:18:45.813929Z"
    },
    "papermill": {
     "duration": 300.335021,
     "end_time": "2022-11-02T11:18:45.868808",
     "exception": false,
     "start_time": "2022-11-02T11:13:45.533787",
     "status": "completed"
    },
    "tags": []
   },
   "outputs": [
    {
     "name": "stdout",
     "output_type": "stream",
     "text": [
      "CPU times: user 4min 59s, sys: 275 ms, total: 5min\n",
      "Wall time: 5min\n"
     ]
    }
   ],
   "source": [
    "%%time\n",
    "df_sample[\"NER_Spacy_Full\"] = df_sample.text.map(lambda x: tuple(map(str, nlp_spacy(x).ents)))\n",
    "df_sample[\"NER_Spacy_Summ\"] = df_sample.summary.map(lambda x: tuple(map(str, nlp_spacy(x).ents)))"
   ]
  },
  {
   "cell_type": "markdown",
   "id": "e4ce894f",
   "metadata": {
    "papermill": {
     "duration": 0.049985,
     "end_time": "2022-11-02T11:18:45.970209",
     "exception": false,
     "start_time": "2022-11-02T11:18:45.920224",
     "status": "completed"
    },
    "tags": []
   },
   "source": [
    "### Stanza ###"
   ]
  },
  {
   "cell_type": "code",
   "execution_count": 9,
   "id": "5737f201",
   "metadata": {
    "execution": {
     "iopub.execute_input": "2022-11-02T11:18:46.072676Z",
     "iopub.status.busy": "2022-11-02T11:18:46.072264Z",
     "iopub.status.idle": "2022-11-02T11:18:58.693835Z",
     "shell.execute_reply": "2022-11-02T11:18:58.692407Z"
    },
    "papermill": {
     "duration": 12.674968,
     "end_time": "2022-11-02T11:18:58.696505",
     "exception": false,
     "start_time": "2022-11-02T11:18:46.021537",
     "status": "completed"
    },
    "tags": []
   },
   "outputs": [
    {
     "name": "stdout",
     "output_type": "stream",
     "text": [
      "\u001b[33mWARNING: Running pip as the 'root' user can result in broken permissions and conflicting behaviour with the system package manager. It is recommended to use a virtual environment instead: https://pip.pypa.io/warnings/venv\u001b[0m\u001b[33m\r\n",
      "\u001b[0m"
     ]
    }
   ],
   "source": [
    "!pip -q install stanza"
   ]
  },
  {
   "cell_type": "code",
   "execution_count": 10,
   "id": "1b88caf3",
   "metadata": {
    "execution": {
     "iopub.execute_input": "2022-11-02T11:18:58.802325Z",
     "iopub.status.busy": "2022-11-02T11:18:58.801881Z",
     "iopub.status.idle": "2022-11-02T11:19:27.435462Z",
     "shell.execute_reply": "2022-11-02T11:19:27.434470Z"
    },
    "papermill": {
     "duration": 28.688581,
     "end_time": "2022-11-02T11:19:27.438170",
     "exception": false,
     "start_time": "2022-11-02T11:18:58.749589",
     "status": "completed"
    },
    "tags": []
   },
   "outputs": [
    {
     "data": {
      "application/vnd.jupyter.widget-view+json": {
       "model_id": "c206da44bbea415eb4bfdc22d5ca4665",
       "version_major": 2,
       "version_minor": 0
      },
      "text/plain": [
       "Downloading https://raw.githubusercontent.com/stanfordnlp/stanza-resources/main/resources_1.4.1.json:   0%|   …"
      ]
     },
     "metadata": {},
     "output_type": "display_data"
    },
    {
     "data": {
      "application/vnd.jupyter.widget-view+json": {
       "model_id": "c6c77bfe9d7141888fd591f62f04a9f1",
       "version_major": 2,
       "version_minor": 0
      },
      "text/plain": [
       "Downloading https://huggingface.co/stanfordnlp/stanza-ru/resolve/v1.4.1/models/tokenize/syntagrus.pt:   0%|   …"
      ]
     },
     "metadata": {},
     "output_type": "display_data"
    },
    {
     "data": {
      "application/vnd.jupyter.widget-view+json": {
       "model_id": "ff6fa852b9f2442eb4fcee863d1196a4",
       "version_major": 2,
       "version_minor": 0
      },
      "text/plain": [
       "Downloading https://huggingface.co/stanfordnlp/stanza-ru/resolve/v1.4.1/models/ner/wikiner.pt:   0%|          …"
      ]
     },
     "metadata": {},
     "output_type": "display_data"
    },
    {
     "data": {
      "application/vnd.jupyter.widget-view+json": {
       "model_id": "8c50ec4eb5c34d21a1a65d974dad31ac",
       "version_major": 2,
       "version_minor": 0
      },
      "text/plain": [
       "Downloading https://huggingface.co/stanfordnlp/stanza-ru/resolve/v1.4.1/models/backward_charlm/newswiki.pt:   …"
      ]
     },
     "metadata": {},
     "output_type": "display_data"
    },
    {
     "data": {
      "application/vnd.jupyter.widget-view+json": {
       "model_id": "5c2721f5cdc845cea02268b0da23b883",
       "version_major": 2,
       "version_minor": 0
      },
      "text/plain": [
       "Downloading https://huggingface.co/stanfordnlp/stanza-ru/resolve/v1.4.1/models/pretrain/fasttextwiki.pt:   0%|…"
      ]
     },
     "metadata": {},
     "output_type": "display_data"
    },
    {
     "data": {
      "application/vnd.jupyter.widget-view+json": {
       "model_id": "7af53c3975754f768fb840c7fd5a21e5",
       "version_major": 2,
       "version_minor": 0
      },
      "text/plain": [
       "Downloading https://huggingface.co/stanfordnlp/stanza-ru/resolve/v1.4.1/models/forward_charlm/newswiki.pt:   0…"
      ]
     },
     "metadata": {},
     "output_type": "display_data"
    }
   ],
   "source": [
    "import stanza\n",
    "#nlp = stanza.Pipeline(lang='ru')\n",
    "# nlp_stanza = stanza.Pipeline(lang='ru', processors='tokenize,pos,lemma,ner,depparse')\n",
    "nlp_stanza = stanza.Pipeline(lang='ru', processors='tokenize,ner')"
   ]
  },
  {
   "cell_type": "code",
   "execution_count": 11,
   "id": "2e7c1105",
   "metadata": {
    "execution": {
     "iopub.execute_input": "2022-11-02T11:19:27.542950Z",
     "iopub.status.busy": "2022-11-02T11:19:27.542507Z",
     "iopub.status.idle": "2022-11-02T11:19:31.032356Z",
     "shell.execute_reply": "2022-11-02T11:19:31.030891Z"
    },
    "papermill": {
     "duration": 3.545019,
     "end_time": "2022-11-02T11:19:31.034661",
     "exception": false,
     "start_time": "2022-11-02T11:19:27.489642",
     "status": "completed"
    },
    "tags": []
   },
   "outputs": [
    {
     "name": "stdout",
     "output_type": "stream",
     "text": [
      "422 ms ± 6.34 ms per loop (mean ± std. dev. of 7 runs, 1 loop each)\n"
     ]
    }
   ],
   "source": [
    "%%timeit \n",
    "nlp_stanza(timeit_sample).ents"
   ]
  },
  {
   "cell_type": "code",
   "execution_count": 12,
   "id": "73bc97b4",
   "metadata": {
    "execution": {
     "iopub.execute_input": "2022-11-02T11:19:31.140195Z",
     "iopub.status.busy": "2022-11-02T11:19:31.139791Z",
     "iopub.status.idle": "2022-11-02T12:16:01.648008Z",
     "shell.execute_reply": "2022-11-02T12:16:01.646238Z"
    },
    "papermill": {
     "duration": 3390.62062,
     "end_time": "2022-11-02T12:16:01.707131",
     "exception": false,
     "start_time": "2022-11-02T11:19:31.086511",
     "status": "completed"
    },
    "tags": []
   },
   "outputs": [
    {
     "name": "stdout",
     "output_type": "stream",
     "text": [
      "CPU times: user 1h 52min 11s, sys: 30.8 s, total: 1h 52min 42s\n",
      "Wall time: 56min 30s\n"
     ]
    }
   ],
   "source": [
    "%%time\n",
    "df_sample[\"NER_Stanza_Full\"] = df_sample.text.map(lambda x: tuple(map(lambda y: y.text, \n",
    "                                                                      nlp_stanza(x).ents)))\n",
    "df_sample[\"NER_Stanza_Summ\"] = df_sample.summary.map(lambda x: tuple(map(lambda y: y.text, \n",
    "                                                                         nlp_stanza(x).ents)))"
   ]
  },
  {
   "cell_type": "markdown",
   "id": "b2e8c9c0",
   "metadata": {
    "papermill": {
     "duration": 0.054166,
     "end_time": "2022-11-02T12:16:01.822926",
     "exception": false,
     "start_time": "2022-11-02T12:16:01.768760",
     "status": "completed"
    },
    "tags": []
   },
   "source": [
    "### Natasha"
   ]
  },
  {
   "cell_type": "code",
   "execution_count": 13,
   "id": "b5dadf14",
   "metadata": {
    "execution": {
     "iopub.execute_input": "2022-11-02T12:16:01.943210Z",
     "iopub.status.busy": "2022-11-02T12:16:01.942215Z",
     "iopub.status.idle": "2022-11-02T12:16:19.809296Z",
     "shell.execute_reply": "2022-11-02T12:16:19.807897Z"
    },
    "papermill": {
     "duration": 17.931657,
     "end_time": "2022-11-02T12:16:19.812028",
     "exception": false,
     "start_time": "2022-11-02T12:16:01.880371",
     "status": "completed"
    },
    "tags": []
   },
   "outputs": [
    {
     "name": "stdout",
     "output_type": "stream",
     "text": [
      "\u001b[33mWARNING: Running pip as the 'root' user can result in broken permissions and conflicting behaviour with the system package manager. It is recommended to use a virtual environment instead: https://pip.pypa.io/warnings/venv\u001b[0m\u001b[33m\r\n",
      "\u001b[0m"
     ]
    }
   ],
   "source": [
    "!pip -q install natasha"
   ]
  },
  {
   "cell_type": "code",
   "execution_count": 14,
   "id": "e1982770",
   "metadata": {
    "execution": {
     "iopub.execute_input": "2022-11-02T12:16:19.921202Z",
     "iopub.status.busy": "2022-11-02T12:16:19.920735Z",
     "iopub.status.idle": "2022-11-02T12:16:21.518894Z",
     "shell.execute_reply": "2022-11-02T12:16:21.517580Z"
    },
    "papermill": {
     "duration": 1.656693,
     "end_time": "2022-11-02T12:16:21.521516",
     "exception": false,
     "start_time": "2022-11-02T12:16:19.864823",
     "status": "completed"
    },
    "tags": []
   },
   "outputs": [],
   "source": [
    "from natasha import (\n",
    "    Segmenter,\n",
    "    MorphVocab,\n",
    "    \n",
    "    NewsEmbedding,\n",
    "    NewsMorphTagger,\n",
    "    NewsSyntaxParser,\n",
    "    NewsNERTagger,\n",
    "    \n",
    "    PER,\n",
    "    NamesExtractor,\n",
    "\n",
    "    Doc\n",
    ")\n",
    "\n",
    "\n",
    "segmenter = Segmenter()\n",
    "morph_vocab = MorphVocab()\n",
    "\n",
    "emb = NewsEmbedding()\n",
    "morph_tagger = NewsMorphTagger(emb)\n",
    "syntax_parser = NewsSyntaxParser(emb)\n",
    "ner_tagger = NewsNERTagger(emb)\n",
    "\n",
    "names_extractor = NamesExtractor(morph_vocab)\n",
    "\n",
    "# text = 'Посол Израиля на Украине Йоэль Лион признался, что пришел в шок, узнав о решении властей Львовской области объявить 2019 год годом лидера запрещенной в России Организации украинских националистов (ОУН) Степана Бандеры. Свое заявление он разместил в Twitter. «Я не могу понять, как прославление тех, кто непосредственно принимал участие в ужасных антисемитских преступлениях, помогает бороться с антисемитизмом и ксенофобией. Украина не должна забывать о преступлениях, совершенных против украинских евреев, и никоим образом не отмечать их через почитание их исполнителей», — написал дипломат. 11 декабря Львовский областной совет принял решение провозгласить 2019 год в регионе годом Степана Бандеры в связи с празднованием 110-летия со дня рождения лидера ОУН (Бандера родился 1 января 1909 года). В июле аналогичное решение принял Житомирский областной совет. В начале месяца с предложением к президенту страны Петру Порошенко вернуть Бандере звание Героя Украины обратились депутаты Верховной Рады. Парламентарии уверены, что признание Бандеры национальным героем поможет в борьбе с подрывной деятельностью против Украины в информационном поле, а также остановит «распространение мифов, созданных российской пропагандой». Степан Бандера (1909-1959) был одним из лидеров Организации украинских националистов, выступающей за создание независимого государства на территориях с украиноязычным населением. В 2010 году в период президентства Виктора Ющенко Бандера был посмертно признан Героем Украины, однако впоследствии это решение было отменено судом. '\n",
    "# doc = Doc(text)"
   ]
  },
  {
   "cell_type": "raw",
   "id": "72c081d1",
   "metadata": {
    "execution": {
     "iopub.execute_input": "2022-11-01T13:39:14.131335Z",
     "iopub.status.busy": "2022-11-01T13:39:14.130897Z",
     "iopub.status.idle": "2022-11-01T13:39:14.245905Z",
     "shell.execute_reply": "2022-11-01T13:39:14.244269Z",
     "shell.execute_reply.started": "2022-11-01T13:39:14.131297Z"
    },
    "papermill": {
     "duration": 0.057301,
     "end_time": "2022-11-02T12:16:21.632953",
     "exception": false,
     "start_time": "2022-11-02T12:16:21.575652",
     "status": "completed"
    },
    "tags": []
   },
   "source": [
    "doc.segment(segmenter)\n",
    "doc.tag_morph(morph_tagger)\n",
    "doc.tag_ner(ner_tagger)\n",
    "doc.parse_syntax(syntax_parser)\n",
    "\n",
    "# приведение к нормальной форме\n",
    "for span in doc.spans:\n",
    "    span.normalize(morph_vocab)\n",
    "\n",
    "doc.spans[0].tokens\n",
    "\n",
    "doc.syntax.print()\n",
    "\n",
    "[(span.normal, span.text, span.type) for span in doc.spans]"
   ]
  },
  {
   "cell_type": "code",
   "execution_count": 15,
   "id": "fa7e2daf",
   "metadata": {
    "execution": {
     "iopub.execute_input": "2022-11-02T12:16:21.742586Z",
     "iopub.status.busy": "2022-11-02T12:16:21.742144Z",
     "iopub.status.idle": "2022-11-02T12:16:21.748898Z",
     "shell.execute_reply": "2022-11-02T12:16:21.747480Z"
    },
    "papermill": {
     "duration": 0.066527,
     "end_time": "2022-11-02T12:16:21.751895",
     "exception": false,
     "start_time": "2022-11-02T12:16:21.685368",
     "status": "completed"
    },
    "tags": []
   },
   "outputs": [],
   "source": [
    "def natasha_get_ents(sent):\n",
    "    doc = Doc(sent)\n",
    "    doc.segment(segmenter)\n",
    "    doc.tag_morph(morph_tagger) # не обязательно\n",
    "    doc.tag_ner(ner_tagger)\n",
    "    return tuple([span.text for span in doc.spans])"
   ]
  },
  {
   "cell_type": "code",
   "execution_count": 16,
   "id": "c52e8b7a",
   "metadata": {
    "execution": {
     "iopub.execute_input": "2022-11-02T12:16:21.859391Z",
     "iopub.status.busy": "2022-11-02T12:16:21.858936Z",
     "iopub.status.idle": "2022-11-02T12:19:48.257281Z",
     "shell.execute_reply": "2022-11-02T12:19:48.256084Z"
    },
    "papermill": {
     "duration": 206.579449,
     "end_time": "2022-11-02T12:19:48.383346",
     "exception": false,
     "start_time": "2022-11-02T12:16:21.803897",
     "status": "completed"
    },
    "tags": []
   },
   "outputs": [
    {
     "name": "stdout",
     "output_type": "stream",
     "text": [
      "CPU times: user 7min 55s, sys: 5min 28s, total: 13min 24s\n",
      "Wall time: 3min 26s\n"
     ]
    }
   ],
   "source": [
    "%%time\n",
    "df_sample[\"NER_Natasha_Full\"] = df_sample.text.map(natasha_get_ents)\n",
    "df_sample[\"NER_Natasha_Summ\"] = df_sample.summary.map(natasha_get_ents)"
   ]
  },
  {
   "cell_type": "markdown",
   "id": "8b078d5e",
   "metadata": {
    "papermill": {
     "duration": 0.051048,
     "end_time": "2022-11-02T12:19:48.487712",
     "exception": false,
     "start_time": "2022-11-02T12:19:48.436664",
     "status": "completed"
    },
    "tags": []
   },
   "source": [
    "### NER final compare"
   ]
  },
  {
   "cell_type": "code",
   "execution_count": 17,
   "id": "7eec6187",
   "metadata": {
    "execution": {
     "iopub.execute_input": "2022-11-02T12:19:48.592715Z",
     "iopub.status.busy": "2022-11-02T12:19:48.592299Z",
     "iopub.status.idle": "2022-11-02T12:19:48.661193Z",
     "shell.execute_reply": "2022-11-02T12:19:48.659943Z"
    },
    "papermill": {
     "duration": 0.124942,
     "end_time": "2022-11-02T12:19:48.664466",
     "exception": false,
     "start_time": "2022-11-02T12:19:48.539524",
     "status": "completed"
    },
    "tags": []
   },
   "outputs": [],
   "source": [
    "df_sample[\"NER_all_Full\"] = (df_sample.NER_Spacy_Full + df_sample.NER_Stanza_Full + df_sample.NER_Natasha_Full).map(lambda x: tuple(set(x)))\n",
    "df_sample[\"NER_all_Summ\"] = (df_sample.NER_Spacy_Summ + df_sample.NER_Stanza_Summ + df_sample.NER_Natasha_Summ).map(lambda x: tuple(set(x)))"
   ]
  },
  {
   "cell_type": "code",
   "execution_count": 18,
   "id": "256a0a05",
   "metadata": {
    "execution": {
     "iopub.execute_input": "2022-11-02T12:19:48.773327Z",
     "iopub.status.busy": "2022-11-02T12:19:48.772286Z",
     "iopub.status.idle": "2022-11-02T12:19:51.408685Z",
     "shell.execute_reply": "2022-11-02T12:19:51.407789Z"
    },
    "papermill": {
     "duration": 2.695324,
     "end_time": "2022-11-02T12:19:51.411012",
     "exception": false,
     "start_time": "2022-11-02T12:19:48.715688",
     "status": "completed"
    },
    "tags": []
   },
   "outputs": [
    {
     "data": {
      "text/html": [
       "<div>\n",
       "<style scoped>\n",
       "    .dataframe tbody tr th:only-of-type {\n",
       "        vertical-align: middle;\n",
       "    }\n",
       "\n",
       "    .dataframe tbody tr th {\n",
       "        vertical-align: top;\n",
       "    }\n",
       "\n",
       "    .dataframe thead th {\n",
       "        text-align: right;\n",
       "    }\n",
       "</style>\n",
       "<table border=\"1\" class=\"dataframe\">\n",
       "  <thead>\n",
       "    <tr style=\"text-align: right;\">\n",
       "      <th></th>\n",
       "      <th>Accuracy (Full)</th>\n",
       "      <th>Missing_count (Full)</th>\n",
       "      <th>All_count (Full)</th>\n",
       "      <th>Accuracy (Summ)</th>\n",
       "      <th>Missing_count (Summ)</th>\n",
       "      <th>All_count (Summ)</th>\n",
       "    </tr>\n",
       "  </thead>\n",
       "  <tbody>\n",
       "    <tr>\n",
       "      <th>NER_missing_Spacy</th>\n",
       "      <td>0.849578</td>\n",
       "      <td>4593.0</td>\n",
       "      <td>30534.0</td>\n",
       "      <td>0.860273</td>\n",
       "      <td>2685.0</td>\n",
       "      <td>19216.0</td>\n",
       "    </tr>\n",
       "    <tr>\n",
       "      <th>NER_missing_Stanza</th>\n",
       "      <td>0.830386</td>\n",
       "      <td>5179.0</td>\n",
       "      <td>30534.0</td>\n",
       "      <td>0.840602</td>\n",
       "      <td>3063.0</td>\n",
       "      <td>19216.0</td>\n",
       "    </tr>\n",
       "    <tr>\n",
       "      <th>NER_missing_Natasha</th>\n",
       "      <td>0.819873</td>\n",
       "      <td>5500.0</td>\n",
       "      <td>30534.0</td>\n",
       "      <td>0.799334</td>\n",
       "      <td>3856.0</td>\n",
       "      <td>19216.0</td>\n",
       "    </tr>\n",
       "    <tr>\n",
       "      <th>NER_missing_SpacyStanza</th>\n",
       "      <td>0.976125</td>\n",
       "      <td>729.0</td>\n",
       "      <td>30534.0</td>\n",
       "      <td>0.978039</td>\n",
       "      <td>422.0</td>\n",
       "      <td>19216.0</td>\n",
       "    </tr>\n",
       "    <tr>\n",
       "      <th>NER_missing_SpacyNatasha</th>\n",
       "      <td>0.898146</td>\n",
       "      <td>3110.0</td>\n",
       "      <td>30534.0</td>\n",
       "      <td>0.906172</td>\n",
       "      <td>1803.0</td>\n",
       "      <td>19216.0</td>\n",
       "    </tr>\n",
       "    <tr>\n",
       "      <th>NER_missing_StanzaNatasha</th>\n",
       "      <td>0.967937</td>\n",
       "      <td>979.0</td>\n",
       "      <td>30534.0</td>\n",
       "      <td>0.968047</td>\n",
       "      <td>614.0</td>\n",
       "      <td>19216.0</td>\n",
       "    </tr>\n",
       "  </tbody>\n",
       "</table>\n",
       "</div>"
      ],
      "text/plain": [
       "                           Accuracy (Full)  Missing_count (Full)  \\\n",
       "NER_missing_Spacy          0.849578         4593.0                 \n",
       "NER_missing_Stanza         0.830386         5179.0                 \n",
       "NER_missing_Natasha        0.819873         5500.0                 \n",
       "NER_missing_SpacyStanza    0.976125         729.0                  \n",
       "NER_missing_SpacyNatasha   0.898146         3110.0                 \n",
       "NER_missing_StanzaNatasha  0.967937         979.0                  \n",
       "\n",
       "                           All_count (Full)  Accuracy (Summ)  \\\n",
       "NER_missing_Spacy          30534.0           0.860273          \n",
       "NER_missing_Stanza         30534.0           0.840602          \n",
       "NER_missing_Natasha        30534.0           0.799334          \n",
       "NER_missing_SpacyStanza    30534.0           0.978039          \n",
       "NER_missing_SpacyNatasha   30534.0           0.906172          \n",
       "NER_missing_StanzaNatasha  30534.0           0.968047          \n",
       "\n",
       "                           Missing_count (Summ)  All_count (Summ)  \n",
       "NER_missing_Spacy          2685.0                19216.0           \n",
       "NER_missing_Stanza         3063.0                19216.0           \n",
       "NER_missing_Natasha        3856.0                19216.0           \n",
       "NER_missing_SpacyStanza    422.0                 19216.0           \n",
       "NER_missing_SpacyNatasha   1803.0                19216.0           \n",
       "NER_missing_StanzaNatasha  614.0                 19216.0           "
      ]
     },
     "execution_count": 18,
     "metadata": {},
     "output_type": "execute_result"
    }
   ],
   "source": [
    "import itertools\n",
    "\n",
    "list_dicts = []\n",
    "for text_type in [\"Full\", \"Summ\"]:\n",
    "    libs = ['Spacy', 'Stanza', 'Natasha']\n",
    "    for lib in libs:\n",
    "        df_sample[f\"NER_missing_{lib}_{text_type}\"] = df_sample.apply(lambda x: tuple(set(x[f\"NER_all_{text_type}\"]) - \n",
    "                                                                               set(x[f\"NER_{lib}_{text_type}\"])), \n",
    "                                                               axis=1)\n",
    "\n",
    "\n",
    "    for a, b in list(itertools.combinations(range(3), 2)):\n",
    "        df_sample[f\"NER_missing_{libs[a]}{libs[b]}_{text_type}\"] = df_sample.apply(lambda x: tuple(set(x[f\"NER_all_{text_type}\"]) - \n",
    "                                                                                      set(x[f\"NER_{libs[a]}_{text_type}\"]) -\n",
    "                                                                                      set(x[f\"NER_{libs[b]}_{text_type}\"])), \n",
    "                                                                            axis=1)\n",
    "\n",
    "    columns_NER_missing = [col_name for col_name in df_sample.columns if col_name.startswith(\"NER_missing_\") and col_name.endswith(text_type)]\n",
    "    dict_metrics = {}\n",
    "    for col in columns_NER_missing:\n",
    "        dict_metrics[col[:-5]] = {f\"Accuracy ({text_type})\": 1.0 - sum(df_sample[col].map(len)) / sum(df_sample[f\"NER_all_{text_type}\"].map(len)),\n",
    "                                 f\"Missing_count ({text_type})\": sum(df_sample[col].map(len)),\n",
    "                                 f\"All_count ({text_type})\": sum(df_sample[f\"NER_all_{text_type}\"].map(len))\n",
    "                            }\n",
    "    list_dicts.append(dict_metrics)\n",
    "df_metrics = pd.concat(map(pd.DataFrame, list_dicts)).T\n",
    "df_metrics"
   ]
  },
  {
   "cell_type": "code",
   "execution_count": 19,
   "id": "6fc92892",
   "metadata": {
    "execution": {
     "iopub.execute_input": "2022-11-02T12:19:51.516278Z",
     "iopub.status.busy": "2022-11-02T12:19:51.515682Z",
     "iopub.status.idle": "2022-11-02T12:19:51.861686Z",
     "shell.execute_reply": "2022-11-02T12:19:51.860553Z"
    },
    "papermill": {
     "duration": 0.401951,
     "end_time": "2022-11-02T12:19:51.864447",
     "exception": false,
     "start_time": "2022-11-02T12:19:51.462496",
     "status": "completed"
    },
    "tags": []
   },
   "outputs": [],
   "source": [
    "df_metrics.to_csv(\"metrics_ner_compare.csv\")\n",
    "df_metrics.to_excel(\"metrics_ner_compare.xlsx\")"
   ]
  },
  {
   "cell_type": "code",
   "execution_count": 20,
   "id": "0f12281a",
   "metadata": {
    "execution": {
     "iopub.execute_input": "2022-11-02T12:19:51.970135Z",
     "iopub.status.busy": "2022-11-02T12:19:51.969747Z",
     "iopub.status.idle": "2022-11-02T12:20:01.892024Z",
     "shell.execute_reply": "2022-11-02T12:20:01.890707Z"
    },
    "papermill": {
     "duration": 9.978478,
     "end_time": "2022-11-02T12:20:01.894974",
     "exception": false,
     "start_time": "2022-11-02T12:19:51.916496",
     "status": "completed"
    },
    "tags": []
   },
   "outputs": [],
   "source": [
    "df_sample.to_csv(\"sample_ner_compare.csv\")\n",
    "df_sample.to_excel(\"sample_ner_compare.xlsx\")"
   ]
  },
  {
   "cell_type": "code",
   "execution_count": 21,
   "id": "90b30e0a",
   "metadata": {
    "execution": {
     "iopub.execute_input": "2022-11-02T12:20:02.005468Z",
     "iopub.status.busy": "2022-11-02T12:20:02.005080Z",
     "iopub.status.idle": "2022-11-02T12:20:02.010039Z",
     "shell.execute_reply": "2022-11-02T12:20:02.008818Z"
    },
    "papermill": {
     "duration": 0.062533,
     "end_time": "2022-11-02T12:20:02.012488",
     "exception": false,
     "start_time": "2022-11-02T12:20:01.949955",
     "status": "completed"
    },
    "tags": []
   },
   "outputs": [],
   "source": [
    "#df_sample = df_sample.apply(lambda column: column.map(lambda x: x if x != () else np.NaN))"
   ]
  }
 ],
 "metadata": {
  "kernelspec": {
   "display_name": "Python 3",
   "language": "python",
   "name": "python3"
  },
  "language_info": {
   "codemirror_mode": {
    "name": "ipython",
    "version": 3
   },
   "file_extension": ".py",
   "mimetype": "text/x-python",
   "name": "python",
   "nbconvert_exporter": "python",
   "pygments_lexer": "ipython3",
   "version": "3.7.12"
  },
  "papermill": {
   "default_parameters": {},
   "duration": 4084.943913,
   "end_time": "2022-11-02T12:20:05.520418",
   "environment_variables": {},
   "exception": null,
   "input_path": "__notebook__.ipynb",
   "output_path": "__notebook__.ipynb",
   "parameters": {},
   "start_time": "2022-11-02T11:12:00.576505",
   "version": "2.3.4"
  },
  "widgets": {
   "application/vnd.jupyter.widget-state+json": {
    "state": {
     "00733d7ea45c4e38aea5d2324681f796": {
      "model_module": "@jupyter-widgets/controls",
      "model_module_version": "1.5.0",
      "model_name": "DescriptionStyleModel",
      "state": {
       "_model_module": "@jupyter-widgets/controls",
       "_model_module_version": "1.5.0",
       "_model_name": "DescriptionStyleModel",
       "_view_count": null,
       "_view_module": "@jupyter-widgets/base",
       "_view_module_version": "1.2.0",
       "_view_name": "StyleView",
       "description_width": ""
      }
     },
     "012d7447b3b64a26ada48b0cb32f08fb": {
      "model_module": "@jupyter-widgets/controls",
      "model_module_version": "1.5.0",
      "model_name": "DescriptionStyleModel",
      "state": {
       "_model_module": "@jupyter-widgets/controls",
       "_model_module_version": "1.5.0",
       "_model_name": "DescriptionStyleModel",
       "_view_count": null,
       "_view_module": "@jupyter-widgets/base",
       "_view_module_version": "1.2.0",
       "_view_name": "StyleView",
       "description_width": ""
      }
     },
     "063789e58df34663b9804892776c692f": {
      "model_module": "@jupyter-widgets/base",
      "model_module_version": "1.2.0",
      "model_name": "LayoutModel",
      "state": {
       "_model_module": "@jupyter-widgets/base",
       "_model_module_version": "1.2.0",
       "_model_name": "LayoutModel",
       "_view_count": null,
       "_view_module": "@jupyter-widgets/base",
       "_view_module_version": "1.2.0",
       "_view_name": "LayoutView",
       "align_content": null,
       "align_items": null,
       "align_self": null,
       "border": null,
       "bottom": null,
       "display": null,
       "flex": null,
       "flex_flow": null,
       "grid_area": null,
       "grid_auto_columns": null,
       "grid_auto_flow": null,
       "grid_auto_rows": null,
       "grid_column": null,
       "grid_gap": null,
       "grid_row": null,
       "grid_template_areas": null,
       "grid_template_columns": null,
       "grid_template_rows": null,
       "height": null,
       "justify_content": null,
       "justify_items": null,
       "left": null,
       "margin": null,
       "max_height": null,
       "max_width": null,
       "min_height": null,
       "min_width": null,
       "object_fit": null,
       "object_position": null,
       "order": null,
       "overflow": null,
       "overflow_x": null,
       "overflow_y": null,
       "padding": null,
       "right": null,
       "top": null,
       "visibility": null,
       "width": null
      }
     },
     "07af39cce56e4a428e009225f0ec6ba7": {
      "model_module": "@jupyter-widgets/controls",
      "model_module_version": "1.5.0",
      "model_name": "FloatProgressModel",
      "state": {
       "_dom_classes": [],
       "_model_module": "@jupyter-widgets/controls",
       "_model_module_version": "1.5.0",
       "_model_name": "FloatProgressModel",
       "_view_count": null,
       "_view_module": "@jupyter-widgets/controls",
       "_view_module_version": "1.5.0",
       "_view_name": "ProgressView",
       "bar_style": "success",
       "description": "",
       "description_tooltip": null,
       "layout": "IPY_MODEL_81bc581aef2648f9a19a285eda9642b4",
       "max": 28918.0,
       "min": 0.0,
       "orientation": "horizontal",
       "style": "IPY_MODEL_4f7a022b4e1f411b922e9d3f7c7e731f",
       "value": 28918.0
      }
     },
     "0e7d534120254464b72eb6e5bf9de10f": {
      "model_module": "@jupyter-widgets/controls",
      "model_module_version": "1.5.0",
      "model_name": "DescriptionStyleModel",
      "state": {
       "_model_module": "@jupyter-widgets/controls",
       "_model_module_version": "1.5.0",
       "_model_name": "DescriptionStyleModel",
       "_view_count": null,
       "_view_module": "@jupyter-widgets/base",
       "_view_module_version": "1.2.0",
       "_view_name": "StyleView",
       "description_width": ""
      }
     },
     "1638caab3fe34d62b51883f9b22b8b74": {
      "model_module": "@jupyter-widgets/controls",
      "model_module_version": "1.5.0",
      "model_name": "HTMLModel",
      "state": {
       "_dom_classes": [],
       "_model_module": "@jupyter-widgets/controls",
       "_model_module_version": "1.5.0",
       "_model_name": "HTMLModel",
       "_view_count": null,
       "_view_module": "@jupyter-widgets/controls",
       "_view_module_version": "1.5.0",
       "_view_name": "HTMLView",
       "description": "",
       "description_tooltip": null,
       "layout": "IPY_MODEL_416c3c5af46c40bd88d0e069f621a6c9",
       "placeholder": "​",
       "style": "IPY_MODEL_22e2299c0060470fb188d19c376bbac5",
       "value": "Downloading https://huggingface.co/stanfordnlp/stanza-ru/resolve/v1.4.1/models/backward_charlm/newswiki.pt: 100%"
      }
     },
     "1b3b416b6c4d43828b50dfd20e58934e": {
      "model_module": "@jupyter-widgets/controls",
      "model_module_version": "1.5.0",
      "model_name": "HTMLModel",
      "state": {
       "_dom_classes": [],
       "_model_module": "@jupyter-widgets/controls",
       "_model_module_version": "1.5.0",
       "_model_name": "HTMLModel",
       "_view_count": null,
       "_view_module": "@jupyter-widgets/controls",
       "_view_module_version": "1.5.0",
       "_view_name": "HTMLView",
       "description": "",
       "description_tooltip": null,
       "layout": "IPY_MODEL_26e0497913b6459c994e42009d6fe31d",
       "placeholder": "​",
       "style": "IPY_MODEL_012d7447b3b64a26ada48b0cb32f08fb",
       "value": "Downloading https://huggingface.co/stanfordnlp/stanza-ru/resolve/v1.4.1/models/tokenize/syntagrus.pt: 100%"
      }
     },
     "21373477654c4991a63ba3d7b829aed9": {
      "model_module": "@jupyter-widgets/controls",
      "model_module_version": "1.5.0",
      "model_name": "DescriptionStyleModel",
      "state": {
       "_model_module": "@jupyter-widgets/controls",
       "_model_module_version": "1.5.0",
       "_model_name": "DescriptionStyleModel",
       "_view_count": null,
       "_view_module": "@jupyter-widgets/base",
       "_view_module_version": "1.2.0",
       "_view_name": "StyleView",
       "description_width": ""
      }
     },
     "22e2299c0060470fb188d19c376bbac5": {
      "model_module": "@jupyter-widgets/controls",
      "model_module_version": "1.5.0",
      "model_name": "DescriptionStyleModel",
      "state": {
       "_model_module": "@jupyter-widgets/controls",
       "_model_module_version": "1.5.0",
       "_model_name": "DescriptionStyleModel",
       "_view_count": null,
       "_view_module": "@jupyter-widgets/base",
       "_view_module_version": "1.2.0",
       "_view_name": "StyleView",
       "description_width": ""
      }
     },
     "24c194587ce1498995cd39bb28a50962": {
      "model_module": "@jupyter-widgets/base",
      "model_module_version": "1.2.0",
      "model_name": "LayoutModel",
      "state": {
       "_model_module": "@jupyter-widgets/base",
       "_model_module_version": "1.2.0",
       "_model_name": "LayoutModel",
       "_view_count": null,
       "_view_module": "@jupyter-widgets/base",
       "_view_module_version": "1.2.0",
       "_view_name": "LayoutView",
       "align_content": null,
       "align_items": null,
       "align_self": null,
       "border": null,
       "bottom": null,
       "display": null,
       "flex": null,
       "flex_flow": null,
       "grid_area": null,
       "grid_auto_columns": null,
       "grid_auto_flow": null,
       "grid_auto_rows": null,
       "grid_column": null,
       "grid_gap": null,
       "grid_row": null,
       "grid_template_areas": null,
       "grid_template_columns": null,
       "grid_template_rows": null,
       "height": null,
       "justify_content": null,
       "justify_items": null,
       "left": null,
       "margin": null,
       "max_height": null,
       "max_width": null,
       "min_height": null,
       "min_width": null,
       "object_fit": null,
       "object_position": null,
       "order": null,
       "overflow": null,
       "overflow_x": null,
       "overflow_y": null,
       "padding": null,
       "right": null,
       "top": null,
       "visibility": null,
       "width": null
      }
     },
     "26e0497913b6459c994e42009d6fe31d": {
      "model_module": "@jupyter-widgets/base",
      "model_module_version": "1.2.0",
      "model_name": "LayoutModel",
      "state": {
       "_model_module": "@jupyter-widgets/base",
       "_model_module_version": "1.2.0",
       "_model_name": "LayoutModel",
       "_view_count": null,
       "_view_module": "@jupyter-widgets/base",
       "_view_module_version": "1.2.0",
       "_view_name": "LayoutView",
       "align_content": null,
       "align_items": null,
       "align_self": null,
       "border": null,
       "bottom": null,
       "display": null,
       "flex": null,
       "flex_flow": null,
       "grid_area": null,
       "grid_auto_columns": null,
       "grid_auto_flow": null,
       "grid_auto_rows": null,
       "grid_column": null,
       "grid_gap": null,
       "grid_row": null,
       "grid_template_areas": null,
       "grid_template_columns": null,
       "grid_template_rows": null,
       "height": null,
       "justify_content": null,
       "justify_items": null,
       "left": null,
       "margin": null,
       "max_height": null,
       "max_width": null,
       "min_height": null,
       "min_width": null,
       "object_fit": null,
       "object_position": null,
       "order": null,
       "overflow": null,
       "overflow_x": null,
       "overflow_y": null,
       "padding": null,
       "right": null,
       "top": null,
       "visibility": null,
       "width": null
      }
     },
     "2902aad6f82c4fb080366ea9ae093ba0": {
      "model_module": "@jupyter-widgets/base",
      "model_module_version": "1.2.0",
      "model_name": "LayoutModel",
      "state": {
       "_model_module": "@jupyter-widgets/base",
       "_model_module_version": "1.2.0",
       "_model_name": "LayoutModel",
       "_view_count": null,
       "_view_module": "@jupyter-widgets/base",
       "_view_module_version": "1.2.0",
       "_view_name": "LayoutView",
       "align_content": null,
       "align_items": null,
       "align_self": null,
       "border": null,
       "bottom": null,
       "display": null,
       "flex": null,
       "flex_flow": null,
       "grid_area": null,
       "grid_auto_columns": null,
       "grid_auto_flow": null,
       "grid_auto_rows": null,
       "grid_column": null,
       "grid_gap": null,
       "grid_row": null,
       "grid_template_areas": null,
       "grid_template_columns": null,
       "grid_template_rows": null,
       "height": null,
       "justify_content": null,
       "justify_items": null,
       "left": null,
       "margin": null,
       "max_height": null,
       "max_width": null,
       "min_height": null,
       "min_width": null,
       "object_fit": null,
       "object_position": null,
       "order": null,
       "overflow": null,
       "overflow_x": null,
       "overflow_y": null,
       "padding": null,
       "right": null,
       "top": null,
       "visibility": null,
       "width": null
      }
     },
     "2b4774e4b4154b8dbd85064ba2be78f8": {
      "model_module": "@jupyter-widgets/controls",
      "model_module_version": "1.5.0",
      "model_name": "ProgressStyleModel",
      "state": {
       "_model_module": "@jupyter-widgets/controls",
       "_model_module_version": "1.5.0",
       "_model_name": "ProgressStyleModel",
       "_view_count": null,
       "_view_module": "@jupyter-widgets/base",
       "_view_module_version": "1.2.0",
       "_view_name": "StyleView",
       "bar_color": null,
       "description_width": ""
      }
     },
     "2def359816f9461f9deabb77e448c877": {
      "model_module": "@jupyter-widgets/controls",
      "model_module_version": "1.5.0",
      "model_name": "HTMLModel",
      "state": {
       "_dom_classes": [],
       "_model_module": "@jupyter-widgets/controls",
       "_model_module_version": "1.5.0",
       "_model_name": "HTMLModel",
       "_view_count": null,
       "_view_module": "@jupyter-widgets/controls",
       "_view_module_version": "1.5.0",
       "_view_name": "HTMLView",
       "description": "",
       "description_tooltip": null,
       "layout": "IPY_MODEL_769ca2188a2b4d45a38bcc4b8650b7cd",
       "placeholder": "​",
       "style": "IPY_MODEL_f9bf87ca2fec43be92f150e3e099ccd9",
       "value": " 309M/309M [00:14&lt;00:00, 23.7MB/s]"
      }
     },
     "3a55105ce98641b384c1441bd09785c6": {
      "model_module": "@jupyter-widgets/controls",
      "model_module_version": "1.5.0",
      "model_name": "HTMLModel",
      "state": {
       "_dom_classes": [],
       "_model_module": "@jupyter-widgets/controls",
       "_model_module_version": "1.5.0",
       "_model_name": "HTMLModel",
       "_view_count": null,
       "_view_module": "@jupyter-widgets/controls",
       "_view_module_version": "1.5.0",
       "_view_name": "HTMLView",
       "description": "",
       "description_tooltip": null,
       "layout": "IPY_MODEL_b98ad142eef84059a6bc7fa5043a7c7c",
       "placeholder": "​",
       "style": "IPY_MODEL_0e7d534120254464b72eb6e5bf9de10f",
       "value": "Downloading https://huggingface.co/stanfordnlp/stanza-ru/resolve/v1.4.1/models/pretrain/fasttextwiki.pt: 100%"
      }
     },
     "3d5f3d0e54484743944323df37ae603a": {
      "model_module": "@jupyter-widgets/controls",
      "model_module_version": "1.5.0",
      "model_name": "FloatProgressModel",
      "state": {
       "_dom_classes": [],
       "_model_module": "@jupyter-widgets/controls",
       "_model_module_version": "1.5.0",
       "_model_name": "FloatProgressModel",
       "_view_count": null,
       "_view_module": "@jupyter-widgets/controls",
       "_view_module_version": "1.5.0",
       "_view_name": "ProgressView",
       "bar_style": "success",
       "description": "",
       "description_tooltip": null,
       "layout": "IPY_MODEL_a86e479d510c4782a85ef25bad413120",
       "max": 640577.0,
       "min": 0.0,
       "orientation": "horizontal",
       "style": "IPY_MODEL_6e42ea78fa154fd0a2fff0d1e2d774d5",
       "value": 640577.0
      }
     },
     "416c3c5af46c40bd88d0e069f621a6c9": {
      "model_module": "@jupyter-widgets/base",
      "model_module_version": "1.2.0",
      "model_name": "LayoutModel",
      "state": {
       "_model_module": "@jupyter-widgets/base",
       "_model_module_version": "1.2.0",
       "_model_name": "LayoutModel",
       "_view_count": null,
       "_view_module": "@jupyter-widgets/base",
       "_view_module_version": "1.2.0",
       "_view_name": "LayoutView",
       "align_content": null,
       "align_items": null,
       "align_self": null,
       "border": null,
       "bottom": null,
       "display": null,
       "flex": null,
       "flex_flow": null,
       "grid_area": null,
       "grid_auto_columns": null,
       "grid_auto_flow": null,
       "grid_auto_rows": null,
       "grid_column": null,
       "grid_gap": null,
       "grid_row": null,
       "grid_template_areas": null,
       "grid_template_columns": null,
       "grid_template_rows": null,
       "height": null,
       "justify_content": null,
       "justify_items": null,
       "left": null,
       "margin": null,
       "max_height": null,
       "max_width": null,
       "min_height": null,
       "min_width": null,
       "object_fit": null,
       "object_position": null,
       "order": null,
       "overflow": null,
       "overflow_x": null,
       "overflow_y": null,
       "padding": null,
       "right": null,
       "top": null,
       "visibility": null,
       "width": null
      }
     },
     "48b45c92725e4b79947d0bb429887eff": {
      "model_module": "@jupyter-widgets/controls",
      "model_module_version": "1.5.0",
      "model_name": "DescriptionStyleModel",
      "state": {
       "_model_module": "@jupyter-widgets/controls",
       "_model_module_version": "1.5.0",
       "_model_name": "DescriptionStyleModel",
       "_view_count": null,
       "_view_module": "@jupyter-widgets/base",
       "_view_module_version": "1.2.0",
       "_view_name": "StyleView",
       "description_width": ""
      }
     },
     "493de766ddad4cfaa9eddd48a74588e8": {
      "model_module": "@jupyter-widgets/controls",
      "model_module_version": "1.5.0",
      "model_name": "DescriptionStyleModel",
      "state": {
       "_model_module": "@jupyter-widgets/controls",
       "_model_module_version": "1.5.0",
       "_model_name": "DescriptionStyleModel",
       "_view_count": null,
       "_view_module": "@jupyter-widgets/base",
       "_view_module_version": "1.2.0",
       "_view_name": "StyleView",
       "description_width": ""
      }
     },
     "4aec44842bef4b6f869cb9a25b339c42": {
      "model_module": "@jupyter-widgets/controls",
      "model_module_version": "1.5.0",
      "model_name": "DescriptionStyleModel",
      "state": {
       "_model_module": "@jupyter-widgets/controls",
       "_model_module_version": "1.5.0",
       "_model_name": "DescriptionStyleModel",
       "_view_count": null,
       "_view_module": "@jupyter-widgets/base",
       "_view_module_version": "1.2.0",
       "_view_name": "StyleView",
       "description_width": ""
      }
     },
     "4f7a022b4e1f411b922e9d3f7c7e731f": {
      "model_module": "@jupyter-widgets/controls",
      "model_module_version": "1.5.0",
      "model_name": "ProgressStyleModel",
      "state": {
       "_model_module": "@jupyter-widgets/controls",
       "_model_module_version": "1.5.0",
       "_model_name": "ProgressStyleModel",
       "_view_count": null,
       "_view_module": "@jupyter-widgets/base",
       "_view_module_version": "1.2.0",
       "_view_name": "StyleView",
       "bar_color": null,
       "description_width": ""
      }
     },
     "51b84e9acbe24089abc8793b72d9166f": {
      "model_module": "@jupyter-widgets/controls",
      "model_module_version": "1.5.0",
      "model_name": "HTMLModel",
      "state": {
       "_dom_classes": [],
       "_model_module": "@jupyter-widgets/controls",
       "_model_module_version": "1.5.0",
       "_model_name": "HTMLModel",
       "_view_count": null,
       "_view_module": "@jupyter-widgets/controls",
       "_view_module_version": "1.5.0",
       "_view_name": "HTMLView",
       "description": "",
       "description_tooltip": null,
       "layout": "IPY_MODEL_7dcfb185c96e4aa29f7d9922d14dc4fa",
       "placeholder": "​",
       "style": "IPY_MODEL_21373477654c4991a63ba3d7b829aed9",
       "value": " 193k/? [00:00&lt;00:00, 5.91MB/s]"
      }
     },
     "529e18b497034672bc3115f5f0ccd05e": {
      "model_module": "@jupyter-widgets/controls",
      "model_module_version": "1.5.0",
      "model_name": "HTMLModel",
      "state": {
       "_dom_classes": [],
       "_model_module": "@jupyter-widgets/controls",
       "_model_module_version": "1.5.0",
       "_model_name": "HTMLModel",
       "_view_count": null,
       "_view_module": "@jupyter-widgets/controls",
       "_view_module_version": "1.5.0",
       "_view_name": "HTMLView",
       "description": "",
       "description_tooltip": null,
       "layout": "IPY_MODEL_8a61595931d54d0c864cbcadd898a13f",
       "placeholder": "​",
       "style": "IPY_MODEL_4aec44842bef4b6f869cb9a25b339c42",
       "value": "Downloading https://raw.githubusercontent.com/stanfordnlp/stanza-resources/main/resources_1.4.1.json: "
      }
     },
     "5c2721f5cdc845cea02268b0da23b883": {
      "model_module": "@jupyter-widgets/controls",
      "model_module_version": "1.5.0",
      "model_name": "HBoxModel",
      "state": {
       "_dom_classes": [],
       "_model_module": "@jupyter-widgets/controls",
       "_model_module_version": "1.5.0",
       "_model_name": "HBoxModel",
       "_view_count": null,
       "_view_module": "@jupyter-widgets/controls",
       "_view_module_version": "1.5.0",
       "_view_name": "HBoxView",
       "box_style": "",
       "children": [
        "IPY_MODEL_3a55105ce98641b384c1441bd09785c6",
        "IPY_MODEL_997fb6fd397747018d44c1036e668be7",
        "IPY_MODEL_2def359816f9461f9deabb77e448c877"
       ],
       "layout": "IPY_MODEL_6bc15f3de7504d6baf64154d339de4dc"
      }
     },
     "5ddff2ae137d472c855ff095a65f9754": {
      "model_module": "@jupyter-widgets/base",
      "model_module_version": "1.2.0",
      "model_name": "LayoutModel",
      "state": {
       "_model_module": "@jupyter-widgets/base",
       "_model_module_version": "1.2.0",
       "_model_name": "LayoutModel",
       "_view_count": null,
       "_view_module": "@jupyter-widgets/base",
       "_view_module_version": "1.2.0",
       "_view_name": "LayoutView",
       "align_content": null,
       "align_items": null,
       "align_self": null,
       "border": null,
       "bottom": null,
       "display": null,
       "flex": null,
       "flex_flow": null,
       "grid_area": null,
       "grid_auto_columns": null,
       "grid_auto_flow": null,
       "grid_auto_rows": null,
       "grid_column": null,
       "grid_gap": null,
       "grid_row": null,
       "grid_template_areas": null,
       "grid_template_columns": null,
       "grid_template_rows": null,
       "height": null,
       "justify_content": null,
       "justify_items": null,
       "left": null,
       "margin": null,
       "max_height": null,
       "max_width": null,
       "min_height": null,
       "min_width": null,
       "object_fit": null,
       "object_position": null,
       "order": null,
       "overflow": null,
       "overflow_x": null,
       "overflow_y": null,
       "padding": null,
       "right": null,
       "top": null,
       "visibility": null,
       "width": null
      }
     },
     "66fac268eca9499dac4adf02f931e813": {
      "model_module": "@jupyter-widgets/controls",
      "model_module_version": "1.5.0",
      "model_name": "HTMLModel",
      "state": {
       "_dom_classes": [],
       "_model_module": "@jupyter-widgets/controls",
       "_model_module_version": "1.5.0",
       "_model_name": "HTMLModel",
       "_view_count": null,
       "_view_module": "@jupyter-widgets/controls",
       "_view_module_version": "1.5.0",
       "_view_name": "HTMLView",
       "description": "",
       "description_tooltip": null,
       "layout": "IPY_MODEL_cc50710117544c9eb1cf0b5705403f7f",
       "placeholder": "​",
       "style": "IPY_MODEL_ec4bec18a98840fc88cd6768f8ed2746",
       "value": " 20.0M/20.0M [00:01&lt;00:00, 21.7MB/s]"
      }
     },
     "68d738c08b2c47e3a9c9c0f8ab9662e7": {
      "model_module": "@jupyter-widgets/controls",
      "model_module_version": "1.5.0",
      "model_name": "FloatProgressModel",
      "state": {
       "_dom_classes": [],
       "_model_module": "@jupyter-widgets/controls",
       "_model_module_version": "1.5.0",
       "_model_name": "FloatProgressModel",
       "_view_count": null,
       "_view_module": "@jupyter-widgets/controls",
       "_view_module_version": "1.5.0",
       "_view_name": "ProgressView",
       "bar_style": "success",
       "description": "",
       "description_tooltip": null,
       "layout": "IPY_MODEL_063789e58df34663b9804892776c692f",
       "max": 52359483.0,
       "min": 0.0,
       "orientation": "horizontal",
       "style": "IPY_MODEL_2b4774e4b4154b8dbd85064ba2be78f8",
       "value": 52359483.0
      }
     },
     "6bc15f3de7504d6baf64154d339de4dc": {
      "model_module": "@jupyter-widgets/base",
      "model_module_version": "1.2.0",
      "model_name": "LayoutModel",
      "state": {
       "_model_module": "@jupyter-widgets/base",
       "_model_module_version": "1.2.0",
       "_model_name": "LayoutModel",
       "_view_count": null,
       "_view_module": "@jupyter-widgets/base",
       "_view_module_version": "1.2.0",
       "_view_name": "LayoutView",
       "align_content": null,
       "align_items": null,
       "align_self": null,
       "border": null,
       "bottom": null,
       "display": null,
       "flex": null,
       "flex_flow": null,
       "grid_area": null,
       "grid_auto_columns": null,
       "grid_auto_flow": null,
       "grid_auto_rows": null,
       "grid_column": null,
       "grid_gap": null,
       "grid_row": null,
       "grid_template_areas": null,
       "grid_template_columns": null,
       "grid_template_rows": null,
       "height": null,
       "justify_content": null,
       "justify_items": null,
       "left": null,
       "margin": null,
       "max_height": null,
       "max_width": null,
       "min_height": null,
       "min_width": null,
       "object_fit": null,
       "object_position": null,
       "order": null,
       "overflow": null,
       "overflow_x": null,
       "overflow_y": null,
       "padding": null,
       "right": null,
       "top": null,
       "visibility": null,
       "width": null
      }
     },
     "6c4e0e137e5f42239bd0baff947f2425": {
      "model_module": "@jupyter-widgets/controls",
      "model_module_version": "1.5.0",
      "model_name": "HTMLModel",
      "state": {
       "_dom_classes": [],
       "_model_module": "@jupyter-widgets/controls",
       "_model_module_version": "1.5.0",
       "_model_name": "HTMLModel",
       "_view_count": null,
       "_view_module": "@jupyter-widgets/controls",
       "_view_module_version": "1.5.0",
       "_view_name": "HTMLView",
       "description": "",
       "description_tooltip": null,
       "layout": "IPY_MODEL_5ddff2ae137d472c855ff095a65f9754",
       "placeholder": "​",
       "style": "IPY_MODEL_89fcc26f841a442bbe5e04abb929998c",
       "value": " 641k/641k [00:00&lt;00:00, 1.13MB/s]"
      }
     },
     "6e42ea78fa154fd0a2fff0d1e2d774d5": {
      "model_module": "@jupyter-widgets/controls",
      "model_module_version": "1.5.0",
      "model_name": "ProgressStyleModel",
      "state": {
       "_model_module": "@jupyter-widgets/controls",
       "_model_module_version": "1.5.0",
       "_model_name": "ProgressStyleModel",
       "_view_count": null,
       "_view_module": "@jupyter-widgets/base",
       "_view_module_version": "1.2.0",
       "_view_name": "StyleView",
       "bar_color": null,
       "description_width": ""
      }
     },
     "6ff01dbc65db4e6593a274d9e0618966": {
      "model_module": "@jupyter-widgets/controls",
      "model_module_version": "1.5.0",
      "model_name": "ProgressStyleModel",
      "state": {
       "_model_module": "@jupyter-widgets/controls",
       "_model_module_version": "1.5.0",
       "_model_name": "ProgressStyleModel",
       "_view_count": null,
       "_view_module": "@jupyter-widgets/base",
       "_view_module_version": "1.2.0",
       "_view_name": "StyleView",
       "bar_color": null,
       "description_width": ""
      }
     },
     "769ca2188a2b4d45a38bcc4b8650b7cd": {
      "model_module": "@jupyter-widgets/base",
      "model_module_version": "1.2.0",
      "model_name": "LayoutModel",
      "state": {
       "_model_module": "@jupyter-widgets/base",
       "_model_module_version": "1.2.0",
       "_model_name": "LayoutModel",
       "_view_count": null,
       "_view_module": "@jupyter-widgets/base",
       "_view_module_version": "1.2.0",
       "_view_name": "LayoutView",
       "align_content": null,
       "align_items": null,
       "align_self": null,
       "border": null,
       "bottom": null,
       "display": null,
       "flex": null,
       "flex_flow": null,
       "grid_area": null,
       "grid_auto_columns": null,
       "grid_auto_flow": null,
       "grid_auto_rows": null,
       "grid_column": null,
       "grid_gap": null,
       "grid_row": null,
       "grid_template_areas": null,
       "grid_template_columns": null,
       "grid_template_rows": null,
       "height": null,
       "justify_content": null,
       "justify_items": null,
       "left": null,
       "margin": null,
       "max_height": null,
       "max_width": null,
       "min_height": null,
       "min_width": null,
       "object_fit": null,
       "object_position": null,
       "order": null,
       "overflow": null,
       "overflow_x": null,
       "overflow_y": null,
       "padding": null,
       "right": null,
       "top": null,
       "visibility": null,
       "width": null
      }
     },
     "76d99b0ec3574e248fffd23a5f505afd": {
      "model_module": "@jupyter-widgets/base",
      "model_module_version": "1.2.0",
      "model_name": "LayoutModel",
      "state": {
       "_model_module": "@jupyter-widgets/base",
       "_model_module_version": "1.2.0",
       "_model_name": "LayoutModel",
       "_view_count": null,
       "_view_module": "@jupyter-widgets/base",
       "_view_module_version": "1.2.0",
       "_view_name": "LayoutView",
       "align_content": null,
       "align_items": null,
       "align_self": null,
       "border": null,
       "bottom": null,
       "display": null,
       "flex": null,
       "flex_flow": null,
       "grid_area": null,
       "grid_auto_columns": null,
       "grid_auto_flow": null,
       "grid_auto_rows": null,
       "grid_column": null,
       "grid_gap": null,
       "grid_row": null,
       "grid_template_areas": null,
       "grid_template_columns": null,
       "grid_template_rows": null,
       "height": null,
       "justify_content": null,
       "justify_items": null,
       "left": null,
       "margin": null,
       "max_height": null,
       "max_width": null,
       "min_height": null,
       "min_width": null,
       "object_fit": null,
       "object_position": null,
       "order": null,
       "overflow": null,
       "overflow_x": null,
       "overflow_y": null,
       "padding": null,
       "right": null,
       "top": null,
       "visibility": null,
       "width": null
      }
     },
     "7af53c3975754f768fb840c7fd5a21e5": {
      "model_module": "@jupyter-widgets/controls",
      "model_module_version": "1.5.0",
      "model_name": "HBoxModel",
      "state": {
       "_dom_classes": [],
       "_model_module": "@jupyter-widgets/controls",
       "_model_module_version": "1.5.0",
       "_model_name": "HBoxModel",
       "_view_count": null,
       "_view_module": "@jupyter-widgets/controls",
       "_view_module_version": "1.5.0",
       "_view_name": "HBoxView",
       "box_style": "",
       "children": [
        "IPY_MODEL_93e6d11a042f472c8d37764edb4a969c",
        "IPY_MODEL_e55a5a25dcd34b0b9cb7bde70b06a6db",
        "IPY_MODEL_66fac268eca9499dac4adf02f931e813"
       ],
       "layout": "IPY_MODEL_2902aad6f82c4fb080366ea9ae093ba0"
      }
     },
     "7dcfb185c96e4aa29f7d9922d14dc4fa": {
      "model_module": "@jupyter-widgets/base",
      "model_module_version": "1.2.0",
      "model_name": "LayoutModel",
      "state": {
       "_model_module": "@jupyter-widgets/base",
       "_model_module_version": "1.2.0",
       "_model_name": "LayoutModel",
       "_view_count": null,
       "_view_module": "@jupyter-widgets/base",
       "_view_module_version": "1.2.0",
       "_view_name": "LayoutView",
       "align_content": null,
       "align_items": null,
       "align_self": null,
       "border": null,
       "bottom": null,
       "display": null,
       "flex": null,
       "flex_flow": null,
       "grid_area": null,
       "grid_auto_columns": null,
       "grid_auto_flow": null,
       "grid_auto_rows": null,
       "grid_column": null,
       "grid_gap": null,
       "grid_row": null,
       "grid_template_areas": null,
       "grid_template_columns": null,
       "grid_template_rows": null,
       "height": null,
       "justify_content": null,
       "justify_items": null,
       "left": null,
       "margin": null,
       "max_height": null,
       "max_width": null,
       "min_height": null,
       "min_width": null,
       "object_fit": null,
       "object_position": null,
       "order": null,
       "overflow": null,
       "overflow_x": null,
       "overflow_y": null,
       "padding": null,
       "right": null,
       "top": null,
       "visibility": null,
       "width": null
      }
     },
     "81bc581aef2648f9a19a285eda9642b4": {
      "model_module": "@jupyter-widgets/base",
      "model_module_version": "1.2.0",
      "model_name": "LayoutModel",
      "state": {
       "_model_module": "@jupyter-widgets/base",
       "_model_module_version": "1.2.0",
       "_model_name": "LayoutModel",
       "_view_count": null,
       "_view_module": "@jupyter-widgets/base",
       "_view_module_version": "1.2.0",
       "_view_name": "LayoutView",
       "align_content": null,
       "align_items": null,
       "align_self": null,
       "border": null,
       "bottom": null,
       "display": null,
       "flex": null,
       "flex_flow": null,
       "grid_area": null,
       "grid_auto_columns": null,
       "grid_auto_flow": null,
       "grid_auto_rows": null,
       "grid_column": null,
       "grid_gap": null,
       "grid_row": null,
       "grid_template_areas": null,
       "grid_template_columns": null,
       "grid_template_rows": null,
       "height": null,
       "justify_content": null,
       "justify_items": null,
       "left": null,
       "margin": null,
       "max_height": null,
       "max_width": null,
       "min_height": null,
       "min_width": null,
       "object_fit": null,
       "object_position": null,
       "order": null,
       "overflow": null,
       "overflow_x": null,
       "overflow_y": null,
       "padding": null,
       "right": null,
       "top": null,
       "visibility": null,
       "width": null
      }
     },
     "89fcc26f841a442bbe5e04abb929998c": {
      "model_module": "@jupyter-widgets/controls",
      "model_module_version": "1.5.0",
      "model_name": "DescriptionStyleModel",
      "state": {
       "_model_module": "@jupyter-widgets/controls",
       "_model_module_version": "1.5.0",
       "_model_name": "DescriptionStyleModel",
       "_view_count": null,
       "_view_module": "@jupyter-widgets/base",
       "_view_module_version": "1.2.0",
       "_view_name": "StyleView",
       "description_width": ""
      }
     },
     "8a61595931d54d0c864cbcadd898a13f": {
      "model_module": "@jupyter-widgets/base",
      "model_module_version": "1.2.0",
      "model_name": "LayoutModel",
      "state": {
       "_model_module": "@jupyter-widgets/base",
       "_model_module_version": "1.2.0",
       "_model_name": "LayoutModel",
       "_view_count": null,
       "_view_module": "@jupyter-widgets/base",
       "_view_module_version": "1.2.0",
       "_view_name": "LayoutView",
       "align_content": null,
       "align_items": null,
       "align_self": null,
       "border": null,
       "bottom": null,
       "display": null,
       "flex": null,
       "flex_flow": null,
       "grid_area": null,
       "grid_auto_columns": null,
       "grid_auto_flow": null,
       "grid_auto_rows": null,
       "grid_column": null,
       "grid_gap": null,
       "grid_row": null,
       "grid_template_areas": null,
       "grid_template_columns": null,
       "grid_template_rows": null,
       "height": null,
       "justify_content": null,
       "justify_items": null,
       "left": null,
       "margin": null,
       "max_height": null,
       "max_width": null,
       "min_height": null,
       "min_width": null,
       "object_fit": null,
       "object_position": null,
       "order": null,
       "overflow": null,
       "overflow_x": null,
       "overflow_y": null,
       "padding": null,
       "right": null,
       "top": null,
       "visibility": null,
       "width": null
      }
     },
     "8c50ec4eb5c34d21a1a65d974dad31ac": {
      "model_module": "@jupyter-widgets/controls",
      "model_module_version": "1.5.0",
      "model_name": "HBoxModel",
      "state": {
       "_dom_classes": [],
       "_model_module": "@jupyter-widgets/controls",
       "_model_module_version": "1.5.0",
       "_model_name": "HBoxModel",
       "_view_count": null,
       "_view_module": "@jupyter-widgets/controls",
       "_view_module_version": "1.5.0",
       "_view_name": "HBoxView",
       "box_style": "",
       "children": [
        "IPY_MODEL_1638caab3fe34d62b51883f9b22b8b74",
        "IPY_MODEL_9a0ffa16c5674680aff3dbbc417b7713",
        "IPY_MODEL_ee8c9f011a4f4763aaf242ea46cd1a98"
       ],
       "layout": "IPY_MODEL_24c194587ce1498995cd39bb28a50962"
      }
     },
     "93e6d11a042f472c8d37764edb4a969c": {
      "model_module": "@jupyter-widgets/controls",
      "model_module_version": "1.5.0",
      "model_name": "HTMLModel",
      "state": {
       "_dom_classes": [],
       "_model_module": "@jupyter-widgets/controls",
       "_model_module_version": "1.5.0",
       "_model_name": "HTMLModel",
       "_view_count": null,
       "_view_module": "@jupyter-widgets/controls",
       "_view_module_version": "1.5.0",
       "_view_name": "HTMLView",
       "description": "",
       "description_tooltip": null,
       "layout": "IPY_MODEL_a29563075f8f4e1e84d946b014b26b38",
       "placeholder": "​",
       "style": "IPY_MODEL_493de766ddad4cfaa9eddd48a74588e8",
       "value": "Downloading https://huggingface.co/stanfordnlp/stanza-ru/resolve/v1.4.1/models/forward_charlm/newswiki.pt: 100%"
      }
     },
     "997fb6fd397747018d44c1036e668be7": {
      "model_module": "@jupyter-widgets/controls",
      "model_module_version": "1.5.0",
      "model_name": "FloatProgressModel",
      "state": {
       "_dom_classes": [],
       "_model_module": "@jupyter-widgets/controls",
       "_model_module_version": "1.5.0",
       "_model_name": "FloatProgressModel",
       "_view_count": null,
       "_view_module": "@jupyter-widgets/controls",
       "_view_module_version": "1.5.0",
       "_view_name": "ProgressView",
       "bar_style": "success",
       "description": "",
       "description_tooltip": null,
       "layout": "IPY_MODEL_76d99b0ec3574e248fffd23a5f505afd",
       "max": 308888454.0,
       "min": 0.0,
       "orientation": "horizontal",
       "style": "IPY_MODEL_d0f8639253674987933cb2e49177bddf",
       "value": 308888454.0
      }
     },
     "9a0ffa16c5674680aff3dbbc417b7713": {
      "model_module": "@jupyter-widgets/controls",
      "model_module_version": "1.5.0",
      "model_name": "FloatProgressModel",
      "state": {
       "_dom_classes": [],
       "_model_module": "@jupyter-widgets/controls",
       "_model_module_version": "1.5.0",
       "_model_name": "FloatProgressModel",
       "_view_count": null,
       "_view_module": "@jupyter-widgets/controls",
       "_view_module_version": "1.5.0",
       "_view_name": "ProgressView",
       "bar_style": "success",
       "description": "",
       "description_tooltip": null,
       "layout": "IPY_MODEL_a18a558d088248af86be597aa0e93a7f",
       "max": 19962981.0,
       "min": 0.0,
       "orientation": "horizontal",
       "style": "IPY_MODEL_6ff01dbc65db4e6593a274d9e0618966",
       "value": 19962981.0
      }
     },
     "a18a558d088248af86be597aa0e93a7f": {
      "model_module": "@jupyter-widgets/base",
      "model_module_version": "1.2.0",
      "model_name": "LayoutModel",
      "state": {
       "_model_module": "@jupyter-widgets/base",
       "_model_module_version": "1.2.0",
       "_model_name": "LayoutModel",
       "_view_count": null,
       "_view_module": "@jupyter-widgets/base",
       "_view_module_version": "1.2.0",
       "_view_name": "LayoutView",
       "align_content": null,
       "align_items": null,
       "align_self": null,
       "border": null,
       "bottom": null,
       "display": null,
       "flex": null,
       "flex_flow": null,
       "grid_area": null,
       "grid_auto_columns": null,
       "grid_auto_flow": null,
       "grid_auto_rows": null,
       "grid_column": null,
       "grid_gap": null,
       "grid_row": null,
       "grid_template_areas": null,
       "grid_template_columns": null,
       "grid_template_rows": null,
       "height": null,
       "justify_content": null,
       "justify_items": null,
       "left": null,
       "margin": null,
       "max_height": null,
       "max_width": null,
       "min_height": null,
       "min_width": null,
       "object_fit": null,
       "object_position": null,
       "order": null,
       "overflow": null,
       "overflow_x": null,
       "overflow_y": null,
       "padding": null,
       "right": null,
       "top": null,
       "visibility": null,
       "width": null
      }
     },
     "a29563075f8f4e1e84d946b014b26b38": {
      "model_module": "@jupyter-widgets/base",
      "model_module_version": "1.2.0",
      "model_name": "LayoutModel",
      "state": {
       "_model_module": "@jupyter-widgets/base",
       "_model_module_version": "1.2.0",
       "_model_name": "LayoutModel",
       "_view_count": null,
       "_view_module": "@jupyter-widgets/base",
       "_view_module_version": "1.2.0",
       "_view_name": "LayoutView",
       "align_content": null,
       "align_items": null,
       "align_self": null,
       "border": null,
       "bottom": null,
       "display": null,
       "flex": null,
       "flex_flow": null,
       "grid_area": null,
       "grid_auto_columns": null,
       "grid_auto_flow": null,
       "grid_auto_rows": null,
       "grid_column": null,
       "grid_gap": null,
       "grid_row": null,
       "grid_template_areas": null,
       "grid_template_columns": null,
       "grid_template_rows": null,
       "height": null,
       "justify_content": null,
       "justify_items": null,
       "left": null,
       "margin": null,
       "max_height": null,
       "max_width": null,
       "min_height": null,
       "min_width": null,
       "object_fit": null,
       "object_position": null,
       "order": null,
       "overflow": null,
       "overflow_x": null,
       "overflow_y": null,
       "padding": null,
       "right": null,
       "top": null,
       "visibility": null,
       "width": null
      }
     },
     "a3758963c45a449da81125d6a17f6102": {
      "model_module": "@jupyter-widgets/base",
      "model_module_version": "1.2.0",
      "model_name": "LayoutModel",
      "state": {
       "_model_module": "@jupyter-widgets/base",
       "_model_module_version": "1.2.0",
       "_model_name": "LayoutModel",
       "_view_count": null,
       "_view_module": "@jupyter-widgets/base",
       "_view_module_version": "1.2.0",
       "_view_name": "LayoutView",
       "align_content": null,
       "align_items": null,
       "align_self": null,
       "border": null,
       "bottom": null,
       "display": null,
       "flex": null,
       "flex_flow": null,
       "grid_area": null,
       "grid_auto_columns": null,
       "grid_auto_flow": null,
       "grid_auto_rows": null,
       "grid_column": null,
       "grid_gap": null,
       "grid_row": null,
       "grid_template_areas": null,
       "grid_template_columns": null,
       "grid_template_rows": null,
       "height": null,
       "justify_content": null,
       "justify_items": null,
       "left": null,
       "margin": null,
       "max_height": null,
       "max_width": null,
       "min_height": null,
       "min_width": null,
       "object_fit": null,
       "object_position": null,
       "order": null,
       "overflow": null,
       "overflow_x": null,
       "overflow_y": null,
       "padding": null,
       "right": null,
       "top": null,
       "visibility": null,
       "width": null
      }
     },
     "a86e479d510c4782a85ef25bad413120": {
      "model_module": "@jupyter-widgets/base",
      "model_module_version": "1.2.0",
      "model_name": "LayoutModel",
      "state": {
       "_model_module": "@jupyter-widgets/base",
       "_model_module_version": "1.2.0",
       "_model_name": "LayoutModel",
       "_view_count": null,
       "_view_module": "@jupyter-widgets/base",
       "_view_module_version": "1.2.0",
       "_view_name": "LayoutView",
       "align_content": null,
       "align_items": null,
       "align_self": null,
       "border": null,
       "bottom": null,
       "display": null,
       "flex": null,
       "flex_flow": null,
       "grid_area": null,
       "grid_auto_columns": null,
       "grid_auto_flow": null,
       "grid_auto_rows": null,
       "grid_column": null,
       "grid_gap": null,
       "grid_row": null,
       "grid_template_areas": null,
       "grid_template_columns": null,
       "grid_template_rows": null,
       "height": null,
       "justify_content": null,
       "justify_items": null,
       "left": null,
       "margin": null,
       "max_height": null,
       "max_width": null,
       "min_height": null,
       "min_width": null,
       "object_fit": null,
       "object_position": null,
       "order": null,
       "overflow": null,
       "overflow_x": null,
       "overflow_y": null,
       "padding": null,
       "right": null,
       "top": null,
       "visibility": null,
       "width": null
      }
     },
     "b843ad466a404126b54a7b099ac3d6b0": {
      "model_module": "@jupyter-widgets/controls",
      "model_module_version": "1.5.0",
      "model_name": "HTMLModel",
      "state": {
       "_dom_classes": [],
       "_model_module": "@jupyter-widgets/controls",
       "_model_module_version": "1.5.0",
       "_model_name": "HTMLModel",
       "_view_count": null,
       "_view_module": "@jupyter-widgets/controls",
       "_view_module_version": "1.5.0",
       "_view_name": "HTMLView",
       "description": "",
       "description_tooltip": null,
       "layout": "IPY_MODEL_ef2ba5cc7482431d8b1685c4a03811e4",
       "placeholder": "​",
       "style": "IPY_MODEL_48b45c92725e4b79947d0bb429887eff",
       "value": " 52.4M/52.4M [00:03&lt;00:00, 23.7MB/s]"
      }
     },
     "b98ad142eef84059a6bc7fa5043a7c7c": {
      "model_module": "@jupyter-widgets/base",
      "model_module_version": "1.2.0",
      "model_name": "LayoutModel",
      "state": {
       "_model_module": "@jupyter-widgets/base",
       "_model_module_version": "1.2.0",
       "_model_name": "LayoutModel",
       "_view_count": null,
       "_view_module": "@jupyter-widgets/base",
       "_view_module_version": "1.2.0",
       "_view_name": "LayoutView",
       "align_content": null,
       "align_items": null,
       "align_self": null,
       "border": null,
       "bottom": null,
       "display": null,
       "flex": null,
       "flex_flow": null,
       "grid_area": null,
       "grid_auto_columns": null,
       "grid_auto_flow": null,
       "grid_auto_rows": null,
       "grid_column": null,
       "grid_gap": null,
       "grid_row": null,
       "grid_template_areas": null,
       "grid_template_columns": null,
       "grid_template_rows": null,
       "height": null,
       "justify_content": null,
       "justify_items": null,
       "left": null,
       "margin": null,
       "max_height": null,
       "max_width": null,
       "min_height": null,
       "min_width": null,
       "object_fit": null,
       "object_position": null,
       "order": null,
       "overflow": null,
       "overflow_x": null,
       "overflow_y": null,
       "padding": null,
       "right": null,
       "top": null,
       "visibility": null,
       "width": null
      }
     },
     "c141d63952c24304a84de2719d388975": {
      "model_module": "@jupyter-widgets/base",
      "model_module_version": "1.2.0",
      "model_name": "LayoutModel",
      "state": {
       "_model_module": "@jupyter-widgets/base",
       "_model_module_version": "1.2.0",
       "_model_name": "LayoutModel",
       "_view_count": null,
       "_view_module": "@jupyter-widgets/base",
       "_view_module_version": "1.2.0",
       "_view_name": "LayoutView",
       "align_content": null,
       "align_items": null,
       "align_self": null,
       "border": null,
       "bottom": null,
       "display": null,
       "flex": null,
       "flex_flow": null,
       "grid_area": null,
       "grid_auto_columns": null,
       "grid_auto_flow": null,
       "grid_auto_rows": null,
       "grid_column": null,
       "grid_gap": null,
       "grid_row": null,
       "grid_template_areas": null,
       "grid_template_columns": null,
       "grid_template_rows": null,
       "height": null,
       "justify_content": null,
       "justify_items": null,
       "left": null,
       "margin": null,
       "max_height": null,
       "max_width": null,
       "min_height": null,
       "min_width": null,
       "object_fit": null,
       "object_position": null,
       "order": null,
       "overflow": null,
       "overflow_x": null,
       "overflow_y": null,
       "padding": null,
       "right": null,
       "top": null,
       "visibility": null,
       "width": null
      }
     },
     "c206da44bbea415eb4bfdc22d5ca4665": {
      "model_module": "@jupyter-widgets/controls",
      "model_module_version": "1.5.0",
      "model_name": "HBoxModel",
      "state": {
       "_dom_classes": [],
       "_model_module": "@jupyter-widgets/controls",
       "_model_module_version": "1.5.0",
       "_model_name": "HBoxModel",
       "_view_count": null,
       "_view_module": "@jupyter-widgets/controls",
       "_view_module_version": "1.5.0",
       "_view_name": "HBoxView",
       "box_style": "",
       "children": [
        "IPY_MODEL_529e18b497034672bc3115f5f0ccd05e",
        "IPY_MODEL_07af39cce56e4a428e009225f0ec6ba7",
        "IPY_MODEL_51b84e9acbe24089abc8793b72d9166f"
       ],
       "layout": "IPY_MODEL_f7cd6012b677454aa7397a0fb0b45262"
      }
     },
     "c6c77bfe9d7141888fd591f62f04a9f1": {
      "model_module": "@jupyter-widgets/controls",
      "model_module_version": "1.5.0",
      "model_name": "HBoxModel",
      "state": {
       "_dom_classes": [],
       "_model_module": "@jupyter-widgets/controls",
       "_model_module_version": "1.5.0",
       "_model_name": "HBoxModel",
       "_view_count": null,
       "_view_module": "@jupyter-widgets/controls",
       "_view_module_version": "1.5.0",
       "_view_name": "HBoxView",
       "box_style": "",
       "children": [
        "IPY_MODEL_1b3b416b6c4d43828b50dfd20e58934e",
        "IPY_MODEL_3d5f3d0e54484743944323df37ae603a",
        "IPY_MODEL_6c4e0e137e5f42239bd0baff947f2425"
       ],
       "layout": "IPY_MODEL_d7d12e37a9e14a3abec0455438b4a905"
      }
     },
     "cc50710117544c9eb1cf0b5705403f7f": {
      "model_module": "@jupyter-widgets/base",
      "model_module_version": "1.2.0",
      "model_name": "LayoutModel",
      "state": {
       "_model_module": "@jupyter-widgets/base",
       "_model_module_version": "1.2.0",
       "_model_name": "LayoutModel",
       "_view_count": null,
       "_view_module": "@jupyter-widgets/base",
       "_view_module_version": "1.2.0",
       "_view_name": "LayoutView",
       "align_content": null,
       "align_items": null,
       "align_self": null,
       "border": null,
       "bottom": null,
       "display": null,
       "flex": null,
       "flex_flow": null,
       "grid_area": null,
       "grid_auto_columns": null,
       "grid_auto_flow": null,
       "grid_auto_rows": null,
       "grid_column": null,
       "grid_gap": null,
       "grid_row": null,
       "grid_template_areas": null,
       "grid_template_columns": null,
       "grid_template_rows": null,
       "height": null,
       "justify_content": null,
       "justify_items": null,
       "left": null,
       "margin": null,
       "max_height": null,
       "max_width": null,
       "min_height": null,
       "min_width": null,
       "object_fit": null,
       "object_position": null,
       "order": null,
       "overflow": null,
       "overflow_x": null,
       "overflow_y": null,
       "padding": null,
       "right": null,
       "top": null,
       "visibility": null,
       "width": null
      }
     },
     "d083487098354e3288d4edd73856e098": {
      "model_module": "@jupyter-widgets/controls",
      "model_module_version": "1.5.0",
      "model_name": "ProgressStyleModel",
      "state": {
       "_model_module": "@jupyter-widgets/controls",
       "_model_module_version": "1.5.0",
       "_model_name": "ProgressStyleModel",
       "_view_count": null,
       "_view_module": "@jupyter-widgets/base",
       "_view_module_version": "1.2.0",
       "_view_name": "StyleView",
       "bar_color": null,
       "description_width": ""
      }
     },
     "d0f8639253674987933cb2e49177bddf": {
      "model_module": "@jupyter-widgets/controls",
      "model_module_version": "1.5.0",
      "model_name": "ProgressStyleModel",
      "state": {
       "_model_module": "@jupyter-widgets/controls",
       "_model_module_version": "1.5.0",
       "_model_name": "ProgressStyleModel",
       "_view_count": null,
       "_view_module": "@jupyter-widgets/base",
       "_view_module_version": "1.2.0",
       "_view_name": "StyleView",
       "bar_color": null,
       "description_width": ""
      }
     },
     "d7857c113fc94405b2903942508552c5": {
      "model_module": "@jupyter-widgets/base",
      "model_module_version": "1.2.0",
      "model_name": "LayoutModel",
      "state": {
       "_model_module": "@jupyter-widgets/base",
       "_model_module_version": "1.2.0",
       "_model_name": "LayoutModel",
       "_view_count": null,
       "_view_module": "@jupyter-widgets/base",
       "_view_module_version": "1.2.0",
       "_view_name": "LayoutView",
       "align_content": null,
       "align_items": null,
       "align_self": null,
       "border": null,
       "bottom": null,
       "display": null,
       "flex": null,
       "flex_flow": null,
       "grid_area": null,
       "grid_auto_columns": null,
       "grid_auto_flow": null,
       "grid_auto_rows": null,
       "grid_column": null,
       "grid_gap": null,
       "grid_row": null,
       "grid_template_areas": null,
       "grid_template_columns": null,
       "grid_template_rows": null,
       "height": null,
       "justify_content": null,
       "justify_items": null,
       "left": null,
       "margin": null,
       "max_height": null,
       "max_width": null,
       "min_height": null,
       "min_width": null,
       "object_fit": null,
       "object_position": null,
       "order": null,
       "overflow": null,
       "overflow_x": null,
       "overflow_y": null,
       "padding": null,
       "right": null,
       "top": null,
       "visibility": null,
       "width": null
      }
     },
     "d7d12e37a9e14a3abec0455438b4a905": {
      "model_module": "@jupyter-widgets/base",
      "model_module_version": "1.2.0",
      "model_name": "LayoutModel",
      "state": {
       "_model_module": "@jupyter-widgets/base",
       "_model_module_version": "1.2.0",
       "_model_name": "LayoutModel",
       "_view_count": null,
       "_view_module": "@jupyter-widgets/base",
       "_view_module_version": "1.2.0",
       "_view_name": "LayoutView",
       "align_content": null,
       "align_items": null,
       "align_self": null,
       "border": null,
       "bottom": null,
       "display": null,
       "flex": null,
       "flex_flow": null,
       "grid_area": null,
       "grid_auto_columns": null,
       "grid_auto_flow": null,
       "grid_auto_rows": null,
       "grid_column": null,
       "grid_gap": null,
       "grid_row": null,
       "grid_template_areas": null,
       "grid_template_columns": null,
       "grid_template_rows": null,
       "height": null,
       "justify_content": null,
       "justify_items": null,
       "left": null,
       "margin": null,
       "max_height": null,
       "max_width": null,
       "min_height": null,
       "min_width": null,
       "object_fit": null,
       "object_position": null,
       "order": null,
       "overflow": null,
       "overflow_x": null,
       "overflow_y": null,
       "padding": null,
       "right": null,
       "top": null,
       "visibility": null,
       "width": null
      }
     },
     "d8e04ef0fcd24c47a4acd6d3ebed462d": {
      "model_module": "@jupyter-widgets/controls",
      "model_module_version": "1.5.0",
      "model_name": "HTMLModel",
      "state": {
       "_dom_classes": [],
       "_model_module": "@jupyter-widgets/controls",
       "_model_module_version": "1.5.0",
       "_model_name": "HTMLModel",
       "_view_count": null,
       "_view_module": "@jupyter-widgets/controls",
       "_view_module_version": "1.5.0",
       "_view_name": "HTMLView",
       "description": "",
       "description_tooltip": null,
       "layout": "IPY_MODEL_f91d35a488664bd4b1f3b75899f4f1f4",
       "placeholder": "​",
       "style": "IPY_MODEL_00733d7ea45c4e38aea5d2324681f796",
       "value": "Downloading https://huggingface.co/stanfordnlp/stanza-ru/resolve/v1.4.1/models/ner/wikiner.pt: 100%"
      }
     },
     "e55a5a25dcd34b0b9cb7bde70b06a6db": {
      "model_module": "@jupyter-widgets/controls",
      "model_module_version": "1.5.0",
      "model_name": "FloatProgressModel",
      "state": {
       "_dom_classes": [],
       "_model_module": "@jupyter-widgets/controls",
       "_model_module_version": "1.5.0",
       "_model_name": "FloatProgressModel",
       "_view_count": null,
       "_view_module": "@jupyter-widgets/controls",
       "_view_module_version": "1.5.0",
       "_view_name": "ProgressView",
       "bar_style": "success",
       "description": "",
       "description_tooltip": null,
       "layout": "IPY_MODEL_d7857c113fc94405b2903942508552c5",
       "max": 19962980.0,
       "min": 0.0,
       "orientation": "horizontal",
       "style": "IPY_MODEL_d083487098354e3288d4edd73856e098",
       "value": 19962980.0
      }
     },
     "e755b9aa67e44a43acd0f975a7dfd5e7": {
      "model_module": "@jupyter-widgets/controls",
      "model_module_version": "1.5.0",
      "model_name": "DescriptionStyleModel",
      "state": {
       "_model_module": "@jupyter-widgets/controls",
       "_model_module_version": "1.5.0",
       "_model_name": "DescriptionStyleModel",
       "_view_count": null,
       "_view_module": "@jupyter-widgets/base",
       "_view_module_version": "1.2.0",
       "_view_name": "StyleView",
       "description_width": ""
      }
     },
     "ec4bec18a98840fc88cd6768f8ed2746": {
      "model_module": "@jupyter-widgets/controls",
      "model_module_version": "1.5.0",
      "model_name": "DescriptionStyleModel",
      "state": {
       "_model_module": "@jupyter-widgets/controls",
       "_model_module_version": "1.5.0",
       "_model_name": "DescriptionStyleModel",
       "_view_count": null,
       "_view_module": "@jupyter-widgets/base",
       "_view_module_version": "1.2.0",
       "_view_name": "StyleView",
       "description_width": ""
      }
     },
     "ee8c9f011a4f4763aaf242ea46cd1a98": {
      "model_module": "@jupyter-widgets/controls",
      "model_module_version": "1.5.0",
      "model_name": "HTMLModel",
      "state": {
       "_dom_classes": [],
       "_model_module": "@jupyter-widgets/controls",
       "_model_module_version": "1.5.0",
       "_model_name": "HTMLModel",
       "_view_count": null,
       "_view_module": "@jupyter-widgets/controls",
       "_view_module_version": "1.5.0",
       "_view_name": "HTMLView",
       "description": "",
       "description_tooltip": null,
       "layout": "IPY_MODEL_c141d63952c24304a84de2719d388975",
       "placeholder": "​",
       "style": "IPY_MODEL_e755b9aa67e44a43acd0f975a7dfd5e7",
       "value": " 20.0M/20.0M [00:01&lt;00:00, 21.9MB/s]"
      }
     },
     "ef2ba5cc7482431d8b1685c4a03811e4": {
      "model_module": "@jupyter-widgets/base",
      "model_module_version": "1.2.0",
      "model_name": "LayoutModel",
      "state": {
       "_model_module": "@jupyter-widgets/base",
       "_model_module_version": "1.2.0",
       "_model_name": "LayoutModel",
       "_view_count": null,
       "_view_module": "@jupyter-widgets/base",
       "_view_module_version": "1.2.0",
       "_view_name": "LayoutView",
       "align_content": null,
       "align_items": null,
       "align_self": null,
       "border": null,
       "bottom": null,
       "display": null,
       "flex": null,
       "flex_flow": null,
       "grid_area": null,
       "grid_auto_columns": null,
       "grid_auto_flow": null,
       "grid_auto_rows": null,
       "grid_column": null,
       "grid_gap": null,
       "grid_row": null,
       "grid_template_areas": null,
       "grid_template_columns": null,
       "grid_template_rows": null,
       "height": null,
       "justify_content": null,
       "justify_items": null,
       "left": null,
       "margin": null,
       "max_height": null,
       "max_width": null,
       "min_height": null,
       "min_width": null,
       "object_fit": null,
       "object_position": null,
       "order": null,
       "overflow": null,
       "overflow_x": null,
       "overflow_y": null,
       "padding": null,
       "right": null,
       "top": null,
       "visibility": null,
       "width": null
      }
     },
     "f7cd6012b677454aa7397a0fb0b45262": {
      "model_module": "@jupyter-widgets/base",
      "model_module_version": "1.2.0",
      "model_name": "LayoutModel",
      "state": {
       "_model_module": "@jupyter-widgets/base",
       "_model_module_version": "1.2.0",
       "_model_name": "LayoutModel",
       "_view_count": null,
       "_view_module": "@jupyter-widgets/base",
       "_view_module_version": "1.2.0",
       "_view_name": "LayoutView",
       "align_content": null,
       "align_items": null,
       "align_self": null,
       "border": null,
       "bottom": null,
       "display": null,
       "flex": null,
       "flex_flow": null,
       "grid_area": null,
       "grid_auto_columns": null,
       "grid_auto_flow": null,
       "grid_auto_rows": null,
       "grid_column": null,
       "grid_gap": null,
       "grid_row": null,
       "grid_template_areas": null,
       "grid_template_columns": null,
       "grid_template_rows": null,
       "height": null,
       "justify_content": null,
       "justify_items": null,
       "left": null,
       "margin": null,
       "max_height": null,
       "max_width": null,
       "min_height": null,
       "min_width": null,
       "object_fit": null,
       "object_position": null,
       "order": null,
       "overflow": null,
       "overflow_x": null,
       "overflow_y": null,
       "padding": null,
       "right": null,
       "top": null,
       "visibility": null,
       "width": null
      }
     },
     "f91d35a488664bd4b1f3b75899f4f1f4": {
      "model_module": "@jupyter-widgets/base",
      "model_module_version": "1.2.0",
      "model_name": "LayoutModel",
      "state": {
       "_model_module": "@jupyter-widgets/base",
       "_model_module_version": "1.2.0",
       "_model_name": "LayoutModel",
       "_view_count": null,
       "_view_module": "@jupyter-widgets/base",
       "_view_module_version": "1.2.0",
       "_view_name": "LayoutView",
       "align_content": null,
       "align_items": null,
       "align_self": null,
       "border": null,
       "bottom": null,
       "display": null,
       "flex": null,
       "flex_flow": null,
       "grid_area": null,
       "grid_auto_columns": null,
       "grid_auto_flow": null,
       "grid_auto_rows": null,
       "grid_column": null,
       "grid_gap": null,
       "grid_row": null,
       "grid_template_areas": null,
       "grid_template_columns": null,
       "grid_template_rows": null,
       "height": null,
       "justify_content": null,
       "justify_items": null,
       "left": null,
       "margin": null,
       "max_height": null,
       "max_width": null,
       "min_height": null,
       "min_width": null,
       "object_fit": null,
       "object_position": null,
       "order": null,
       "overflow": null,
       "overflow_x": null,
       "overflow_y": null,
       "padding": null,
       "right": null,
       "top": null,
       "visibility": null,
       "width": null
      }
     },
     "f9bf87ca2fec43be92f150e3e099ccd9": {
      "model_module": "@jupyter-widgets/controls",
      "model_module_version": "1.5.0",
      "model_name": "DescriptionStyleModel",
      "state": {
       "_model_module": "@jupyter-widgets/controls",
       "_model_module_version": "1.5.0",
       "_model_name": "DescriptionStyleModel",
       "_view_count": null,
       "_view_module": "@jupyter-widgets/base",
       "_view_module_version": "1.2.0",
       "_view_name": "StyleView",
       "description_width": ""
      }
     },
     "ff6fa852b9f2442eb4fcee863d1196a4": {
      "model_module": "@jupyter-widgets/controls",
      "model_module_version": "1.5.0",
      "model_name": "HBoxModel",
      "state": {
       "_dom_classes": [],
       "_model_module": "@jupyter-widgets/controls",
       "_model_module_version": "1.5.0",
       "_model_name": "HBoxModel",
       "_view_count": null,
       "_view_module": "@jupyter-widgets/controls",
       "_view_module_version": "1.5.0",
       "_view_name": "HBoxView",
       "box_style": "",
       "children": [
        "IPY_MODEL_d8e04ef0fcd24c47a4acd6d3ebed462d",
        "IPY_MODEL_68d738c08b2c47e3a9c9c0f8ab9662e7",
        "IPY_MODEL_b843ad466a404126b54a7b099ac3d6b0"
       ],
       "layout": "IPY_MODEL_a3758963c45a449da81125d6a17f6102"
      }
     }
    },
    "version_major": 2,
    "version_minor": 0
   }
  }
 },
 "nbformat": 4,
 "nbformat_minor": 5
}
