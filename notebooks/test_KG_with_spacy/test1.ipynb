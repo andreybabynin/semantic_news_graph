{
 "cells": [
  {
   "cell_type": "code",
   "execution_count": 11,
   "id": "0c397544",
   "metadata": {
    "ExecuteTime": {
     "end_time": "2022-10-22T15:43:10.759396Z",
     "start_time": "2022-10-22T15:43:10.750395Z"
    }
   },
   "outputs": [],
   "source": [
    "import pandas as pd\n",
    "from tqdm import tqdm\n",
    "from news_graph import NewsMining"
   ]
  },
  {
   "cell_type": "markdown",
   "id": "a97f8a46",
   "metadata": {},
   "source": [
    "Берем саммари новостей "
   ]
  },
  {
   "cell_type": "code",
   "execution_count": 2,
   "id": "1a33b5a1",
   "metadata": {
    "ExecuteTime": {
     "end_time": "2022-10-22T15:33:11.242414Z",
     "start_time": "2022-10-22T15:33:10.545414Z"
    }
   },
   "outputs": [],
   "source": [
    "df = pd.read_csv('news_with_summarization.csv')"
   ]
  },
  {
   "cell_type": "code",
   "execution_count": 3,
   "id": "e1494147",
   "metadata": {
    "ExecuteTime": {
     "end_time": "2022-10-22T15:33:11.258414Z",
     "start_time": "2022-10-22T15:33:11.244418Z"
    }
   },
   "outputs": [],
   "source": [
    "doc = df.IlyaGusev__rut5_base_headline_gen_telegram"
   ]
  },
  {
   "cell_type": "markdown",
   "id": "e85cf9a7",
   "metadata": {},
   "source": [
    "#### Посмотрим как выглядят граф, чисто для обычного текста."
   ]
  },
  {
   "cell_type": "code",
   "execution_count": 10,
   "id": "051e6810",
   "metadata": {
    "ExecuteTime": {
     "end_time": "2022-10-22T15:41:07.364563Z",
     "start_time": "2022-10-22T15:41:04.470562Z"
    }
   },
   "outputs": [],
   "source": [
    "i = 0\n",
    "for text in doc:\n",
    "    i += 1\n",
    "    Miner = NewsMining(i)\n",
    "    Miner.main(text)\n",
    "    if i == 100:\n",
    "        break"
   ]
  },
  {
   "cell_type": "markdown",
   "id": "4d615914",
   "metadata": {},
   "source": [
    "##### Граф из 10000 текстов"
   ]
  },
  {
   "cell_type": "code",
   "execution_count": 22,
   "id": "e1153f4c",
   "metadata": {
    "ExecuteTime": {
     "end_time": "2022-10-22T14:55:40.081382Z",
     "start_time": "2022-10-22T14:55:40.062382Z"
    }
   },
   "outputs": [
    {
     "data": {
      "text/plain": [
       "0       Привет, друзья! Включайте уведомления и следит...\n",
       "1       Число жертв паводка в Иркутской области возрос...\n",
       "2       Иран превысил предусмотренный ядерной сделкой ...\n",
       "3       Зеленский предложил Путину провести встречу в ...\n",
       "4       ГПУ возбудила дело против канала News One из-з...\n",
       "                              ...                        \n",
       "9995    Количество иностранных туристов, посетивших РФ...\n",
       "9996    Генсек ОДКБ: Москва и Минск не обсуждают разме...\n",
       "9997    И. о. декана филфака МГУ: проверок не будет, и...\n",
       "9998    Главы МИД стран ОДКБ проведут 26 мая видеоконф...\n",
       "9999    Генсек ОДКБ: Военно-политическая обстановка в ...\n",
       "Name: IlyaGusev__rut5_base_headline_gen_telegram, Length: 10000, dtype: object"
      ]
     },
     "execution_count": 22,
     "metadata": {},
     "output_type": "execute_result"
    }
   ],
   "source": [
    "little = doc[:10000]\n",
    "little "
   ]
  },
  {
   "cell_type": "code",
   "execution_count": 23,
   "id": "bbe9de08",
   "metadata": {
    "ExecuteTime": {
     "end_time": "2022-10-22T14:55:41.595380Z",
     "start_time": "2022-10-22T14:55:41.519382Z"
    }
   },
   "outputs": [
    {
     "name": "stderr",
     "output_type": "stream",
     "text": [
      "100%|████████████████████████████████████████████████████████████████████████| 10000/10000 [00:00<00:00, 172412.82it/s]\n"
     ]
    }
   ],
   "source": [
    "full = ''\n",
    "for text in tqdm(little):\n",
    "    full += text"
   ]
  },
  {
   "cell_type": "code",
   "execution_count": null,
   "id": "b77a401c",
   "metadata": {
    "ExecuteTime": {
     "end_time": "2022-10-22T14:59:14.923380Z",
     "start_time": "2022-10-22T14:55:42.864380Z"
    }
   },
   "outputs": [],
   "source": [
    "Miner = NewsMining()\n",
    "Miner.main(full)"
   ]
  },
  {
   "cell_type": "markdown",
   "id": "87da55d3",
   "metadata": {},
   "source": [
    "#### Поправил размер в nlp.max_length, граф на всех 60к новостях"
   ]
  },
  {
   "cell_type": "markdown",
   "id": "68ece089",
   "metadata": {},
   "source": [
    "ValueError: [E088] Text of length 2075015 exceeds maximum of 1000000. The parser and NER models require roughly 1GB of temporary memory per 100,000 characters in the input. This means long texts may cause memory allocation errors. If you're not using the parser or NER, it's probably safe to increase the `nlp.max_length` limit. The limit is in number of characters, so you can check whether your inputs are too long by checking `len(text)`."
   ]
  },
  {
   "cell_type": "code",
   "execution_count": 19,
   "id": "ed7642d7",
   "metadata": {
    "ExecuteTime": {
     "end_time": "2022-10-22T15:44:39.594611Z",
     "start_time": "2022-10-22T15:44:39.576613Z"
    }
   },
   "outputs": [
    {
     "data": {
      "text/plain": [
       "'Комиссия по телерадиовещанию запретила доступ к сайту Sputnik'"
      ]
     },
     "execution_count": 19,
     "metadata": {},
     "output_type": "execute_result"
    }
   ],
   "source": [
    "doc[9]"
   ]
  },
  {
   "cell_type": "code",
   "execution_count": 20,
   "id": "7eb8cb4a",
   "metadata": {
    "ExecuteTime": {
     "end_time": "2022-10-22T15:44:58.274639Z",
     "start_time": "2022-10-22T15:44:54.346641Z"
    }
   },
   "outputs": [
    {
     "name": "stderr",
     "output_type": "stream",
     "text": [
      "100%|█████████████████████████████████████████████████████████████████████████| 59097/59097 [00:03<00:00, 15125.94it/s]\n"
     ]
    }
   ],
   "source": [
    "full = ''\n",
    "for text in tqdm(doc):\n",
    "    full += text\n",
    "    full += '. '"
   ]
  },
  {
   "cell_type": "code",
   "execution_count": 21,
   "id": "54f74d7f",
   "metadata": {
    "ExecuteTime": {
     "end_time": "2022-10-22T15:44:58.289642Z",
     "start_time": "2022-10-22T15:44:58.277639Z"
    }
   },
   "outputs": [
    {
     "data": {
      "text/plain": [
       "4347149"
      ]
     },
     "execution_count": 21,
     "metadata": {},
     "output_type": "execute_result"
    }
   ],
   "source": [
    "len(full)"
   ]
  },
  {
   "cell_type": "code",
   "execution_count": null,
   "id": "1602e41b",
   "metadata": {
    "ExecuteTime": {
     "start_time": "2022-10-22T15:45:51.750Z"
    }
   },
   "outputs": [],
   "source": [
    "Miner = NewsMining('BIG')\n",
    "Miner.main(full)"
   ]
  }
 ],
 "metadata": {
  "kernelspec": {
   "display_name": "Python 3 (ipykernel)",
   "language": "python",
   "name": "python3"
  },
  "language_info": {
   "codemirror_mode": {
    "name": "ipython",
    "version": 3
   },
   "file_extension": ".py",
   "mimetype": "text/x-python",
   "name": "python",
   "nbconvert_exporter": "python",
   "pygments_lexer": "ipython3",
   "version": "3.9.10"
  }
 },
 "nbformat": 4,
 "nbformat_minor": 5
}
